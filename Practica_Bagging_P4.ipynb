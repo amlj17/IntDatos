{
  "nbformat": 4,
  "nbformat_minor": 0,
  "metadata": {
    "colab": {
      "provenance": []
    },
    "kernelspec": {
      "name": "python3",
      "display_name": "Python 3"
    },
    "language_info": {
      "name": "python"
    }
  },
  "cells": [
    {
      "cell_type": "code",
      "execution_count": 1,
      "metadata": {
        "id": "AWajE3Ik0X9v"
      },
      "outputs": [],
      "source": [
        "from sklearn.ensemble import RandomForestClassifier\n",
        "from sklearn.ensemble import VotingClassifier\n",
        "from sklearn.linear_model import LogisticRegression\n",
        "from sklearn.svm import SVC\n",
        "from sklearn.datasets import load_iris\n",
        "from sklearn.model_selection import train_test_split, RepeatedStratifiedKFold, cross_val_score\n",
        "from sklearn.metrics import accuracy_score\n",
        "from sklearn.tree import DecisionTreeClassifier\n",
        "from sklearn.datasets import make_classification\n",
        "from sklearn.ensemble import BaggingClassifier\n",
        "import numpy as np\n",
        "import matplotlib.pyplot as plt\n",
        "from sklearn.metrics import recall_score, f1_score, accuracy_score\n",
        "from sklearn import datasets"
      ]
    },
    {
      "cell_type": "markdown",
      "source": [
        "Problema 1"
      ],
      "metadata": {
        "id": "wSC1JIxV3-54"
      }
    },
    {
      "cell_type": "markdown",
      "source": [
        "Pregunta 2:\n",
        "\n",
        "Parámetros de Bagging:\n",
        "\n",
        "Estimator: Es el estimador base o débil que se utiliza para ajustar los subconjuntos de datos del conjunto de datos original.\n",
        "\n",
        "n_estimators: el número de estimadores o modelos base en el ensamble\n",
        "\n",
        "Max_samples: el número de muestras que se toman del conjunto de datos original para entrenar cada modelo base.\n",
        "\n",
        "Max_features: el número de características que se toman del conjunto de datos original para entrenar cada modelo base.\n",
        "\n",
        "Bootstrap: indica si el muestreo de los datos se hace con o sin reemplazo\n",
        "\n",
        "Bootstrap_features: indica si las características se toman con o sin reemplazo.\n",
        "\n",
        "Oob_score: indica si se utiliza el out-of-bag sample para estimar el error de generalización del modelo.\n",
        "\n",
        "Warm_start: indica si se añade un estimador nuevo al ensamble o si se reinicia el ensamble desde cero. \n",
        "\n",
        "N_jobs: el número de trabajos que se hacen en paralelo tanto para el fit como el predict. \n",
        "\n",
        "Random_state: semilla para no perder el muestreo del conjunto de datos original\n",
        "\n",
        "Verbose: controla el verbosity al hacer fit y predict\n"
      ],
      "metadata": {
        "id": "5h8sHsWU-TFU"
      }
    },
    {
      "cell_type": "markdown",
      "source": [
        "Pregunta 3"
      ],
      "metadata": {
        "id": "Vsbkn0ou4BRn"
      }
    },
    {
      "cell_type": "code",
      "source": [
        "X, y = make_classification(n_samples=1000, n_features=20, n_informative=15, n_redundant=5,random_state=1)"
      ],
      "metadata": {
        "id": "37TsQsno3pTs"
      },
      "execution_count": 2,
      "outputs": []
    },
    {
      "cell_type": "markdown",
      "source": [
        "Pregunta 4"
      ],
      "metadata": {
        "id": "PTsAwLs24Fhj"
      }
    },
    {
      "cell_type": "code",
      "source": [
        "#crear el modelo de clasificacion bagging\n",
        "Bagging = BaggingClassifier()\n",
        "\n",
        "#cross validation\n",
        "cross_val = RepeatedStratifiedKFold(n_splits=10, n_repeats=3, random_state=1)"
      ],
      "metadata": {
        "id": "Mggx5iP44Gui"
      },
      "execution_count": 3,
      "outputs": []
    },
    {
      "cell_type": "markdown",
      "source": [
        "Pregunta 5"
      ],
      "metadata": {
        "id": "Rr2Nl2Py5ha_"
      }
    },
    {
      "cell_type": "code",
      "source": [
        "n_scores = cross_val_score(Bagging, X, y, scoring='accuracy', cv = cross_val, n_jobs=-1,error_score='raise')\n",
        "print('Media: %.5f' % (np.mean(n_scores)))"
      ],
      "metadata": {
        "colab": {
          "base_uri": "https://localhost:8080/"
        },
        "id": "OTmwccER5g4E",
        "outputId": "0fd472c6-a28c-431b-984c-f43b56f20bfe"
      },
      "execution_count": 4,
      "outputs": [
        {
          "output_type": "stream",
          "name": "stdout",
          "text": [
            "Media: 0.88367\n"
          ]
        }
      ]
    },
    {
      "cell_type": "markdown",
      "source": [
        "La media es de 0.88767"
      ],
      "metadata": {
        "id": "JVN5sFnI-kGw"
      }
    },
    {
      "cell_type": "markdown",
      "source": [
        "Problema 2"
      ],
      "metadata": {
        "id": "QPvs5RMF5pw0"
      }
    },
    {
      "cell_type": "markdown",
      "source": [
        "Pregunta 1"
      ],
      "metadata": {
        "id": "fcsI6LMO5rdn"
      }
    },
    {
      "cell_type": "code",
      "source": [
        "precision = []\n",
        "for i in range(1,21):\n",
        "  Bagging = BaggingClassifier(n_estimators = i)\n",
        "  cross_val = RepeatedStratifiedKFold(n_splits=10, n_repeats=3, random_state=1)\n",
        "  n_scores = cross_val_score(Bagging, X, y, scoring='accuracy', cv = cross_val, n_jobs=-1,error_score='raise')\n",
        "  precision.append((np.mean(n_scores)))"
      ],
      "metadata": {
        "id": "cajuCrqA5s_-"
      },
      "execution_count": 5,
      "outputs": []
    },
    {
      "cell_type": "code",
      "source": [
        "plt.plot(precision)"
      ],
      "metadata": {
        "colab": {
          "base_uri": "https://localhost:8080/",
          "height": 283
        },
        "id": "XL3Hn4WP6vES",
        "outputId": "05fba3ba-9c29-41a3-d9d3-4672e0de3b98"
      },
      "execution_count": 6,
      "outputs": [
        {
          "output_type": "execute_result",
          "data": {
            "text/plain": [
              "[<matplotlib.lines.Line2D at 0x7f9388e866d0>]"
            ]
          },
          "metadata": {},
          "execution_count": 6
        },
        {
          "output_type": "display_data",
          "data": {
            "text/plain": [
              "<Figure size 432x288 with 1 Axes>"
            ],
            "image/png": "[encoded data removed]"
          },
          "metadata": {
            "needs_background": "light"
          }
        }
      ]
    },
    {
      "cell_type": "code",
      "source": [
        "accuracy = []\n",
        "\n",
        "X_train, X_test, y_train, y_test = train_test_split(X, y, test_size = 0.20,random_state=43)\n",
        "\n",
        "for i in range(1,21):\n",
        "  Bagging = BaggingClassifier(n_estimators = i)\n",
        "  Bagging.fit(X_train, y_train)\n",
        "  y_pred = Bagging.predict(X_test)\n",
        "  accuracy.append(accuracy_score(y_test, y_pred))\n",
        "\n",
        "plt.plot(accuracy)"
      ],
      "metadata": {
        "colab": {
          "base_uri": "https://localhost:8080/",
          "height": 283
        },
        "id": "Ooocf-wJ67hj",
        "outputId": "43122b33-34a9-48dd-9e26-a592fb605696"
      },
      "execution_count": 7,
      "outputs": [
        {
          "output_type": "execute_result",
          "data": {
            "text/plain": [
              "[<matplotlib.lines.Line2D at 0x7f9388931af0>]"
            ]
          },
          "metadata": {},
          "execution_count": 7
        },
        {
          "output_type": "display_data",
          "data": {
            "text/plain": [
              "<Figure size 432x288 with 1 Axes>"
            ],
            "image/png": "[encoded data removed]"
          },
          "metadata": {
            "needs_background": "light"
          }
        }
      ]
    },
    {
      "cell_type": "markdown",
      "source": [
        "Al incrementar el numero de estimadores en el ensamble el accuracy va creciendo y va mejorando el modelo."
      ],
      "metadata": {
        "id": "Z8ub8KEI-xAd"
      }
    },
    {
      "cell_type": "markdown",
      "source": [
        "Pregunta 3"
      ],
      "metadata": {
        "id": "t-3EmEm29Lxr"
      }
    },
    {
      "cell_type": "code",
      "source": [
        "accuracy2 = []\n",
        "\n",
        "for i in range(1,21):\n",
        "  Bagging = BaggingClassifier(base_estimator = SVC(kernel = 'poly', degree = 4), n_estimators = i)\n",
        "  Bagging.fit(X_train, y_train)\n",
        "  y_pred = Bagging.predict(X_test)\n",
        "  accuracy2.append(accuracy_score(y_test, y_pred))\n",
        "\n",
        "plt.plot(accuracy2)"
      ],
      "metadata": {
        "colab": {
          "base_uri": "https://localhost:8080/",
          "height": 283
        },
        "id": "2lFlwWUS9Lkz",
        "outputId": "ed098f60-04b6-4c9d-93b3-b534f430fdaf"
      },
      "execution_count": 8,
      "outputs": [
        {
          "output_type": "execute_result",
          "data": {
            "text/plain": [
              "[<matplotlib.lines.Line2D at 0x7f9388925c70>]"
            ]
          },
          "metadata": {},
          "execution_count": 8
        },
        {
          "output_type": "display_data",
          "data": {
            "text/plain": [
              "<Figure size 432x288 with 1 Axes>"
            ],
            "image/png": "[encoded data removed]"
          },
          "metadata": {
            "needs_background": "light"
          }
        }
      ]
    },
    {
      "cell_type": "markdown",
      "source": [
        "En un inicio, al agregar modelos al ensamble, se mejora el accuracy. A partir de 20 en adelante comienza a converger a una media"
      ],
      "metadata": {
        "id": "SXW-xmQa_k5n"
      }
    },
    {
      "cell_type": "markdown",
      "source": [
        "Pregunta 4\n"
      ],
      "metadata": {
        "id": "IGwxOsjJ_T7l"
      }
    },
    {
      "cell_type": "code",
      "source": [
        "accuracy3 = []\n",
        "\n",
        "cancer = datasets.load_breast_cancer()\n",
        "X = cancer.data\n",
        "y = cancer.target\n",
        "\n",
        "X_train, X_test, y_train, y_test = train_test_split(X, y, test_size=0.20, random_state=5)\n",
        "\n",
        "for i in range(1,21):\n",
        "  Bagging = BaggingClassifier(n_estimators = i)\n",
        "  Bagging.fit(X_train, y_train)\n",
        "  y_pred = Bagging.predict(X_test)\n",
        "  accuracy3.append(accuracy_score(y_test, y_pred))\n",
        "\n",
        "plt.plot(accuracy3)\n"
      ],
      "metadata": {
        "colab": {
          "base_uri": "https://localhost:8080/",
          "height": 283
        },
        "id": "x5D4EKgbAAHr",
        "outputId": "36b4142a-be66-437d-ff41-dc2dd4138b7e"
      },
      "execution_count": 9,
      "outputs": [
        {
          "output_type": "execute_result",
          "data": {
            "text/plain": [
              "[<matplotlib.lines.Line2D at 0x7f938887bc10>]"
            ]
          },
          "metadata": {},
          "execution_count": 9
        },
        {
          "output_type": "display_data",
          "data": {
            "text/plain": [
              "<Figure size 432x288 with 1 Axes>"
            ],
            "image/png": "[encoded data removed]"
          },
          "metadata": {
            "needs_background": "light"
          }
        }
      ]
    },
    {
      "cell_type": "markdown",
      "source": [
        "Como en los dos casos anteriores el accuracy aumenta al incrementar el numero de modelos base en el ensamble"
      ],
      "metadata": {
        "id": "HlKN-kTtBn4b"
      }
    }
  ]
}