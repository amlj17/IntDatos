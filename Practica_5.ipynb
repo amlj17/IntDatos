{
  "nbformat": 4,
  "nbformat_minor": 0,
  "metadata": {
    "colab": {
      "provenance": []
    },
    "kernelspec": {
      "name": "python3",
      "display_name": "Python 3"
    },
    "language_info": {
      "name": "python"
    }
  },
  "cells": [
    {
      "cell_type": "markdown",
      "source": [
        "Importamos Librerias"
      ],
      "metadata": {
        "id": "VmupcqLYHqKa"
      }
    },
    {
      "cell_type": "code",
      "source": [
        "import pandas as pd\n",
        "import numpy as np\n",
        "from sklearn.model_selection import train_test_split\n",
        "from sklearn.ensemble import BaggingRegressor\n",
        "from sklearn.ensemble import AdaBoostRegressor\n",
        "from sklearn.preprocessing import StandardScaler\n",
        "from sklearn.linear_model import LinearRegression\n",
        "import matplotlib.pyplot as plt\n",
        "from sklearn.metrics import mean_squared_error\n",
        "from sklearn.linear_model import Ridge\n",
        "import sklearn.metrics as sm\n",
        "from sklearn import linear_model\n",
        "from scipy.stats import norm, skew"
      ],
      "metadata": {
        "id": "GYPCfHlx58Yo"
      },
      "execution_count": null,
      "outputs": []
    },
    {
      "cell_type": "markdown",
      "source": [
        "Pregunta 2"
      ],
      "metadata": {
        "id": "10XgYDS_zZq-"
      }
    },
    {
      "cell_type": "markdown",
      "source": [
        "Se tienen los siguientes parámetros\n",
        "\n",
        "\n",
        "1.   estimator (base_estimator): El estimador o modelo base del cual se crea el ensamble. Si no se especifica esto se hace con árboles de decision de max_depth de 3.\n",
        "2.   n_estimators: el numero máximo de estimadores o modelos base en el cual el algoritmo de boosting se detiene. Si se llega a un modelo perfecto, se detiene antes.\n",
        "3.   learning_rate: El peso que se le aplica a cada regresor en cada iteración del boosting. Un learning rate más alto aumenta la contribución de cada regresor.\n",
        "4.   loss: La función de error que se utiliza al actualizar los pesos tras cada iteracion de boosting. \n",
        "5.   random_state: Controla la random seed. Controla el bootstrap de los pesos utilizados para entrenar los modelos base. \n",
        "\n",
        "\n",
        "\n"
      ],
      "metadata": {
        "id": "PnqPj9mzzbq0"
      }
    },
    {
      "cell_type": "markdown",
      "source": [
        "Pregunta 3"
      ],
      "metadata": {
        "id": "MfKVDbi42V5y"
      }
    },
    {
      "cell_type": "markdown",
      "source": [
        "Modelo de regresión para determinar TARGET_deathRate. Media por capita\n",
        "\n",
        "Busca modelar el death rate a través de varias variables.\n",
        "\n",
        "Estas incluyen:\n",
        "\n",
        "Edad Media de los residentes de un condado\n",
        "\n",
        "Tamaño promedio de vivienda por condado\n",
        "\n",
        "Porcentaje de la población entre 18 y 24 años y sus respectivos niveles educativos\n",
        "\n",
        "Porcentaje de la población mayor de 25 años y sus respectivos niveles educativos\n",
        "\n",
        "Porcentaje de población empleada y desempleada\n",
        "\n",
        "Porcentaje de la población que cuenta con seguros de gastos medicos.\n",
        "\n",
        "Composición racial de la población en porcentajes\n",
        "\n",
        "Tasa de natalidad por condado"
      ],
      "metadata": {
        "id": "KDDNwST24kku"
      }
    },
    {
      "cell_type": "markdown",
      "source": [
        "Pregunta 4"
      ],
      "metadata": {
        "id": "zdavlUEm55uE"
      }
    },
    {
      "cell_type": "markdown",
      "source": [
        "Se cargan los datos a un data frame"
      ],
      "metadata": {
        "id": "DHrTVtOqE3w9"
      }
    },
    {
      "cell_type": "code",
      "source": [
        "df = pd.read_csv('cancer_reg.csv')"
      ],
      "metadata": {
        "id": "skMNHhpM57EQ"
      },
      "execution_count": null,
      "outputs": []
    },
    {
      "cell_type": "markdown",
      "source": [
        "Se ve información básica del df"
      ],
      "metadata": {
        "id": "lLU_hQa7E6Q5"
      }
    },
    {
      "cell_type": "code",
      "source": [
        "df.info"
      ],
      "metadata": {
        "id": "uf2PW6aM7uu5"
      },
      "execution_count": null,
      "outputs": []
    },
    {
      "cell_type": "markdown",
      "source": [
        "del data frame se eliminan las columnas de median age male y median age female, no queremos hacer dos modelos, solo uno. Se usará la variable más general de edad: Median Age. \n",
        "\n",
        "Se elimina la variable geography ya que es una cadena de texto, indica el condado\n",
        "\n",
        "También se elimina binned income ya que son datos en intervalos"
      ],
      "metadata": {
        "id": "f-EdbK2pFHT4"
      }
    },
    {
      "cell_type": "code",
      "source": [
        "df = df.drop(columns =[\"medianagemale\", \"medianagefemale\", \"geography\", \"binnedinc\"])"
      ],
      "metadata": {
        "id": "TIEIldXz-yIY"
      },
      "execution_count": null,
      "outputs": []
    },
    {
      "cell_type": "markdown",
      "source": [
        "Se procede a revisar que columnas son las que más porcentaje de nulos tienen:"
      ],
      "metadata": {
        "id": "R54-llaBCylf"
      }
    },
    {
      "cell_type": "code",
      "source": [
        "all_data_na = (df.isnull().sum() / len(df)) * 100\n",
        "all_data_na = all_data_na.drop(all_data_na[all_data_na == 0].index).sort_values(ascending=False)[:30]\n",
        "missing_data = pd.DataFrame({'% De valores nulos' :all_data_na})\n",
        "missing_data.head(20)"
      ],
      "metadata": {
        "colab": {
          "base_uri": "https://localhost:8080/",
          "height": 143
        },
        "id": "PBDJsPPtCx6k",
        "outputId": "5e669cb1-5636-4a1d-d9a7-fb1e6d0eb417"
      },
      "execution_count": null,
      "outputs": [
        {
          "output_type": "execute_result",
          "data": {
            "text/plain": [
              "                         % De valores nulos\n",
              "pctsomecol18_24                   74.991795\n",
              "pctprivatecoveragealone           19.986872\n",
              "pctemployed16_over                 4.988513"
            ],
            "text/html": [
              "\n",
              "  <div id=\"df-073f620b-6ada-44f8-8bc0-a7a505628123\">\n",
              "    <div class=\"colab-df-container\">\n",
              "      <div>\n",
              "<style scoped>\n",
              "    .dataframe tbody tr th:only-of-type {\n",
              "        vertical-align: middle;\n",
              "    }\n",
              "\n",
              "    .dataframe tbody tr th {\n",
              "        vertical-align: top;\n",
              "    }\n",
              "\n",
              "    .dataframe thead th {\n",
              "        text-align: right;\n",
              "    }\n",
              "</style>\n",
              "<table border=\"1\" class=\"dataframe\">\n",
              "  <thead>\n",
              "    <tr style=\"text-align: right;\">\n",
              "      <th></th>\n",
              "      <th>% De valores nulos</th>\n",
              "    </tr>\n",
              "  </thead>\n",
              "  <tbody>\n",
              "    <tr>\n",
              "      <th>pctsomecol18_24</th>\n",
              "      <td>74.991795</td>\n",
              "    </tr>\n",
              "    <tr>\n",
              "      <th>pctprivatecoveragealone</th>\n",
              "      <td>19.986872</td>\n",
              "    </tr>\n",
              "    <tr>\n",
              "      <th>pctemployed16_over</th>\n",
              "      <td>4.988513</td>\n",
              "    </tr>\n",
              "  </tbody>\n",
              "</table>\n",
              "</div>\n",
              "      <button class=\"colab-df-convert\" onclick=\"convertToInteractive('df-073f620b-6ada-44f8-8bc0-a7a505628123')\"\n",
              "              title=\"Convert this dataframe to an interactive table.\"\n",
              "              style=\"display:none;\">\n",
              "        \n",
              "  <svg xmlns=\"http://www.w3.org/2000/svg\" height=\"24px\"viewBox=\"0 0 24 24\"\n",
              "       width=\"24px\">\n",
              "    <path d=\"M0 0h24v24H0V0z\" fill=\"none\"/>\n",
              "    <path d=\"M18.56 5.44l.94 2.06.94-2.06 2.06-.94-2.06-.94-.94-2.06-.94 2.06-2.06.94zm-11 1L8.5 8.5l.94-2.06 2.06-.94-2.06-.94L8.5 2.5l-.94 2.06-2.06.94zm10 10l.94 2.06.94-2.06 2.06-.94-2.06-.94-.94-2.06-.94 2.06-2.06.94z\"/><path d=\"M17.41 7.96l-1.37-1.37c-.4-.4-.92-.59-1.43-.59-.52 0-1.04.2-1.43.59L10.3 9.45l-7.72 7.72c-.78.78-.78 2.05 0 2.83L4 21.41c.39.39.9.59 1.41.59.51 0 1.02-.2 1.41-.59l7.78-7.78 2.81-2.81c.8-.78.8-2.07 0-2.86zM5.41 20L4 18.59l7.72-7.72 1.47 1.35L5.41 20z\"/>\n",
              "  </svg>\n",
              "      </button>\n",
              "      \n",
              "  <style>\n",
              "    .colab-df-container {\n",
              "      display:flex;\n",
              "      flex-wrap:wrap;\n",
              "      gap: 12px;\n",
              "    }\n",
              "\n",
              "    .colab-df-convert {\n",
              "      background-color: #E8F0FE;\n",
              "      border: none;\n",
              "      border-radius: 50%;\n",
              "      cursor: pointer;\n",
              "      display: none;\n",
              "      fill: #1967D2;\n",
              "      height: 32px;\n",
              "      padding: 0 0 0 0;\n",
              "      width: 32px;\n",
              "    }\n",
              "\n",
              "    .colab-df-convert:hover {\n",
              "      background-color: #E2EBFA;\n",
              "      box-shadow: 0px 1px 2px rgba(60, 64, 67, 0.3), 0px 1px 3px 1px rgba(60, 64, 67, 0.15);\n",
              "      fill: #174EA6;\n",
              "    }\n",
              "\n",
              "    [theme=dark] .colab-df-convert {\n",
              "      background-color: #3B4455;\n",
              "      fill: #D2E3FC;\n",
              "    }\n",
              "\n",
              "    [theme=dark] .colab-df-convert:hover {\n",
              "      background-color: #434B5C;\n",
              "      box-shadow: 0px 1px 3px 1px rgba(0, 0, 0, 0.15);\n",
              "      filter: drop-shadow(0px 1px 2px rgba(0, 0, 0, 0.3));\n",
              "      fill: #FFFFFF;\n",
              "    }\n",
              "  </style>\n",
              "\n",
              "      <script>\n",
              "        const buttonEl =\n",
              "          document.querySelector('#df-073f620b-6ada-44f8-8bc0-a7a505628123 button.colab-df-convert');\n",
              "        buttonEl.style.display =\n",
              "          google.colab.kernel.accessAllowed ? 'block' : 'none';\n",
              "\n",
              "        async function convertToInteractive(key) {\n",
              "          const element = document.querySelector('#df-073f620b-6ada-44f8-8bc0-a7a505628123');\n",
              "          const dataTable =\n",
              "            await google.colab.kernel.invokeFunction('convertToInteractive',\n",
              "                                                     [key], {});\n",
              "          if (!dataTable) return;\n",
              "\n",
              "          const docLinkHtml = 'Like what you see? Visit the ' +\n",
              "            '<a target=\"_blank\" href=https://colab.research.google.com/notebooks/data_table.ipynb>data table notebook</a>'\n",
              "            + ' to learn more about interactive tables.';\n",
              "          element.innerHTML = '';\n",
              "          dataTable['output_type'] = 'display_data';\n",
              "          await google.colab.output.renderOutput(dataTable, element);\n",
              "          const docLink = document.createElement('div');\n",
              "          docLink.innerHTML = docLinkHtml;\n",
              "          element.appendChild(docLink);\n",
              "        }\n",
              "      </script>\n",
              "    </div>\n",
              "  </div>\n",
              "  "
            ]
          },
          "metadata": {},
          "execution_count": 5
        }
      ]
    },
    {
      "cell_type": "markdown",
      "source": [
        "Se eliminan las columnas de PctSomeCol18_24 y PctPrivateCoverageAlone ya que tienen un alto porcentaje de valores nulos. Si simplemente se eliminan dichos valores nulos, se perdería la mayoría de la info del df."
      ],
      "metadata": {
        "id": "I8xtibUgGNyB"
      }
    },
    {
      "cell_type": "code",
      "source": [
        "df = df.drop(columns =[\"pctsomecol18_24\", \"pctprivatecoveragealone\"])"
      ],
      "metadata": {
        "id": "pIeRUX6dDDHb"
      },
      "execution_count": null,
      "outputs": []
    },
    {
      "cell_type": "markdown",
      "source": [
        "Se revisa la correlación con la variable objetivo"
      ],
      "metadata": {
        "id": "W9hByusHHNyr"
      }
    },
    {
      "cell_type": "code",
      "source": [
        "corr_Y_X=pd.DataFrame(df[df.columns[:]].corr()['target_deathrate'][:])\n",
        "corr_Y_X[\"target_deathrate\"].sort_values()"
      ],
      "metadata": {
        "colab": {
          "base_uri": "https://localhost:8080/"
        },
        "id": "oDxwCLUHHHYP",
        "outputId": "6e73bdfc-46a4-4d20-8741-73e1a76fccea"
      },
      "execution_count": null,
      "outputs": [
        {
          "output_type": "execute_result",
          "data": {
            "text/plain": [
              "pctbachdeg25_over        -0.485477\n",
              "medincome                -0.428615\n",
              "pctemployed16_over       -0.412046\n",
              "pctprivatecoverage       -0.386066\n",
              "pctmarriedhouseholds     -0.293325\n",
              "pctbachdeg18_24          -0.287817\n",
              "pctempprivcoverage       -0.267399\n",
              "percentmarried           -0.266820\n",
              "pctotherrace             -0.189894\n",
              "pctasian                 -0.186331\n",
              "pctwhite                 -0.177400\n",
              "avganncount              -0.143532\n",
              "popest2015               -0.120073\n",
              "avgdeathsperyear         -0.090715\n",
              "birthrate                -0.087407\n",
              "avghouseholdsize         -0.036905\n",
              "studypercap              -0.022285\n",
              "medianage                 0.004375\n",
              "pctnohs18_24              0.088463\n",
              "pctblack                  0.257024\n",
              "pcths18_24                0.261976\n",
              "pctunemployed16_over      0.378412\n",
              "pctpubliccoverage         0.404572\n",
              "pcths25_over              0.404589\n",
              "povertypercent            0.429389\n",
              "pctpubliccoveragealone    0.449358\n",
              "incidencerate             0.449432\n",
              "target_deathrate          1.000000\n",
              "Name: target_deathrate, dtype: float64"
            ]
          },
          "metadata": {},
          "execution_count": 7
        }
      ]
    },
    {
      "cell_type": "markdown",
      "source": [
        "Se revisa el skewness"
      ],
      "metadata": {
        "id": "AWMkD7MAHeyZ"
      }
    },
    {
      "cell_type": "code",
      "source": [
        "numeric_feats = df.dtypes[df.dtypes != \"object\"].index\n",
        "skewed_feats = df[numeric_feats].apply(lambda x: skew(x.dropna())).sort_values(ascending=False)\n",
        "print(\"\\nSkew in numerical features: \\n\")\n",
        "skewness = pd.DataFrame({'Skew' :skewed_feats})\n",
        "skewness"
      ],
      "metadata": {
        "colab": {
          "base_uri": "https://localhost:8080/",
          "height": 981
        },
        "id": "J5EjhDWlHgdG",
        "outputId": "ccacc697-fc98-4679-8e48-81042393e831"
      },
      "execution_count": null,
      "outputs": [
        {
          "output_type": "stream",
          "name": "stdout",
          "text": [
            "\n",
            "Skew in numerical features: \n",
            "\n"
          ]
        },
        {
          "output_type": "execute_result",
          "data": {
            "text/plain": [
              "                             Skew\n",
              "popest2015              14.282891\n",
              "avgdeathsperyear        11.943305\n",
              "avganncount             10.675202\n",
              "medianage                9.985026\n",
              "studypercap              8.709400\n",
              "pctasian                 7.414388\n",
              "pctotherrace             4.949741\n",
              "pctblack                 2.256957\n",
              "pctbachdeg18_24          1.955238\n",
              "medincome                1.407377\n",
              "birthrate                1.322551\n",
              "pctbachdeg25_over        1.094298\n",
              "pctnohs18_24             0.972866\n",
              "povertypercent           0.930254\n",
              "pctunemployed16_over     0.890622\n",
              "incidencerate            0.771555\n",
              "pctpubliccoveragealone   0.470717\n",
              "target_deathrate         0.274589\n",
              "pcths18_24               0.179121\n",
              "pctempprivcoverage       0.089372\n",
              "pctpubliccoverage       -0.005433\n",
              "pcths25_over            -0.333471\n",
              "pctemployed16_over      -0.387448\n",
              "pctprivatecoverage      -0.393343\n",
              "pctmarriedhouseholds    -0.522105\n",
              "percentmarried          -0.653165\n",
              "pctwhite                -1.680077\n",
              "avghouseholdsize        -3.379323"
            ],
            "text/html": [
              "\n",
              "  <div id=\"df-65f634c9-0b04-4123-b975-87935871d5d9\">\n",
              "    <div class=\"colab-df-container\">\n",
              "      <div>\n",
              "<style scoped>\n",
              "    .dataframe tbody tr th:only-of-type {\n",
              "        vertical-align: middle;\n",
              "    }\n",
              "\n",
              "    .dataframe tbody tr th {\n",
              "        vertical-align: top;\n",
              "    }\n",
              "\n",
              "    .dataframe thead th {\n",
              "        text-align: right;\n",
              "    }\n",
              "</style>\n",
              "<table border=\"1\" class=\"dataframe\">\n",
              "  <thead>\n",
              "    <tr style=\"text-align: right;\">\n",
              "      <th></th>\n",
              "      <th>Skew</th>\n",
              "    </tr>\n",
              "  </thead>\n",
              "  <tbody>\n",
              "    <tr>\n",
              "      <th>popest2015</th>\n",
              "      <td>14.282891</td>\n",
              "    </tr>\n",
              "    <tr>\n",
              "      <th>avgdeathsperyear</th>\n",
              "      <td>11.943305</td>\n",
              "    </tr>\n",
              "    <tr>\n",
              "      <th>avganncount</th>\n",
              "      <td>10.675202</td>\n",
              "    </tr>\n",
              "    <tr>\n",
              "      <th>medianage</th>\n",
              "      <td>9.985026</td>\n",
              "    </tr>\n",
              "    <tr>\n",
              "      <th>studypercap</th>\n",
              "      <td>8.709400</td>\n",
              "    </tr>\n",
              "    <tr>\n",
              "      <th>pctasian</th>\n",
              "      <td>7.414388</td>\n",
              "    </tr>\n",
              "    <tr>\n",
              "      <th>pctotherrace</th>\n",
              "      <td>4.949741</td>\n",
              "    </tr>\n",
              "    <tr>\n",
              "      <th>pctblack</th>\n",
              "      <td>2.256957</td>\n",
              "    </tr>\n",
              "    <tr>\n",
              "      <th>pctbachdeg18_24</th>\n",
              "      <td>1.955238</td>\n",
              "    </tr>\n",
              "    <tr>\n",
              "      <th>medincome</th>\n",
              "      <td>1.407377</td>\n",
              "    </tr>\n",
              "    <tr>\n",
              "      <th>birthrate</th>\n",
              "      <td>1.322551</td>\n",
              "    </tr>\n",
              "    <tr>\n",
              "      <th>pctbachdeg25_over</th>\n",
              "      <td>1.094298</td>\n",
              "    </tr>\n",
              "    <tr>\n",
              "      <th>pctnohs18_24</th>\n",
              "      <td>0.972866</td>\n",
              "    </tr>\n",
              "    <tr>\n",
              "      <th>povertypercent</th>\n",
              "      <td>0.930254</td>\n",
              "    </tr>\n",
              "    <tr>\n",
              "      <th>pctunemployed16_over</th>\n",
              "      <td>0.890622</td>\n",
              "    </tr>\n",
              "    <tr>\n",
              "      <th>incidencerate</th>\n",
              "      <td>0.771555</td>\n",
              "    </tr>\n",
              "    <tr>\n",
              "      <th>pctpubliccoveragealone</th>\n",
              "      <td>0.470717</td>\n",
              "    </tr>\n",
              "    <tr>\n",
              "      <th>target_deathrate</th>\n",
              "      <td>0.274589</td>\n",
              "    </tr>\n",
              "    <tr>\n",
              "      <th>pcths18_24</th>\n",
              "      <td>0.179121</td>\n",
              "    </tr>\n",
              "    <tr>\n",
              "      <th>pctempprivcoverage</th>\n",
              "      <td>0.089372</td>\n",
              "    </tr>\n",
              "    <tr>\n",
              "      <th>pctpubliccoverage</th>\n",
              "      <td>-0.005433</td>\n",
              "    </tr>\n",
              "    <tr>\n",
              "      <th>pcths25_over</th>\n",
              "      <td>-0.333471</td>\n",
              "    </tr>\n",
              "    <tr>\n",
              "      <th>pctemployed16_over</th>\n",
              "      <td>-0.387448</td>\n",
              "    </tr>\n",
              "    <tr>\n",
              "      <th>pctprivatecoverage</th>\n",
              "      <td>-0.393343</td>\n",
              "    </tr>\n",
              "    <tr>\n",
              "      <th>pctmarriedhouseholds</th>\n",
              "      <td>-0.522105</td>\n",
              "    </tr>\n",
              "    <tr>\n",
              "      <th>percentmarried</th>\n",
              "      <td>-0.653165</td>\n",
              "    </tr>\n",
              "    <tr>\n",
              "      <th>pctwhite</th>\n",
              "      <td>-1.680077</td>\n",
              "    </tr>\n",
              "    <tr>\n",
              "      <th>avghouseholdsize</th>\n",
              "      <td>-3.379323</td>\n",
              "    </tr>\n",
              "  </tbody>\n",
              "</table>\n",
              "</div>\n",
              "      <button class=\"colab-df-convert\" onclick=\"convertToInteractive('df-65f634c9-0b04-4123-b975-87935871d5d9')\"\n",
              "              title=\"Convert this dataframe to an interactive table.\"\n",
              "              style=\"display:none;\">\n",
              "        \n",
              "  <svg xmlns=\"http://www.w3.org/2000/svg\" height=\"24px\"viewBox=\"0 0 24 24\"\n",
              "       width=\"24px\">\n",
              "    <path d=\"M0 0h24v24H0V0z\" fill=\"none\"/>\n",
              "    <path d=\"M18.56 5.44l.94 2.06.94-2.06 2.06-.94-2.06-.94-.94-2.06-.94 2.06-2.06.94zm-11 1L8.5 8.5l.94-2.06 2.06-.94-2.06-.94L8.5 2.5l-.94 2.06-2.06.94zm10 10l.94 2.06.94-2.06 2.06-.94-2.06-.94-.94-2.06-.94 2.06-2.06.94z\"/><path d=\"M17.41 7.96l-1.37-1.37c-.4-.4-.92-.59-1.43-.59-.52 0-1.04.2-1.43.59L10.3 9.45l-7.72 7.72c-.78.78-.78 2.05 0 2.83L4 21.41c.39.39.9.59 1.41.59.51 0 1.02-.2 1.41-.59l7.78-7.78 2.81-2.81c.8-.78.8-2.07 0-2.86zM5.41 20L4 18.59l7.72-7.72 1.47 1.35L5.41 20z\"/>\n",
              "  </svg>\n",
              "      </button>\n",
              "      \n",
              "  <style>\n",
              "    .colab-df-container {\n",
              "      display:flex;\n",
              "      flex-wrap:wrap;\n",
              "      gap: 12px;\n",
              "    }\n",
              "\n",
              "    .colab-df-convert {\n",
              "      background-color: #E8F0FE;\n",
              "      border: none;\n",
              "      border-radius: 50%;\n",
              "      cursor: pointer;\n",
              "      display: none;\n",
              "      fill: #1967D2;\n",
              "      height: 32px;\n",
              "      padding: 0 0 0 0;\n",
              "      width: 32px;\n",
              "    }\n",
              "\n",
              "    .colab-df-convert:hover {\n",
              "      background-color: #E2EBFA;\n",
              "      box-shadow: 0px 1px 2px rgba(60, 64, 67, 0.3), 0px 1px 3px 1px rgba(60, 64, 67, 0.15);\n",
              "      fill: #174EA6;\n",
              "    }\n",
              "\n",
              "    [theme=dark] .colab-df-convert {\n",
              "      background-color: #3B4455;\n",
              "      fill: #D2E3FC;\n",
              "    }\n",
              "\n",
              "    [theme=dark] .colab-df-convert:hover {\n",
              "      background-color: #434B5C;\n",
              "      box-shadow: 0px 1px 3px 1px rgba(0, 0, 0, 0.15);\n",
              "      filter: drop-shadow(0px 1px 2px rgba(0, 0, 0, 0.3));\n",
              "      fill: #FFFFFF;\n",
              "    }\n",
              "  </style>\n",
              "\n",
              "      <script>\n",
              "        const buttonEl =\n",
              "          document.querySelector('#df-65f634c9-0b04-4123-b975-87935871d5d9 button.colab-df-convert');\n",
              "        buttonEl.style.display =\n",
              "          google.colab.kernel.accessAllowed ? 'block' : 'none';\n",
              "\n",
              "        async function convertToInteractive(key) {\n",
              "          const element = document.querySelector('#df-65f634c9-0b04-4123-b975-87935871d5d9');\n",
              "          const dataTable =\n",
              "            await google.colab.kernel.invokeFunction('convertToInteractive',\n",
              "                                                     [key], {});\n",
              "          if (!dataTable) return;\n",
              "\n",
              "          const docLinkHtml = 'Like what you see? Visit the ' +\n",
              "            '<a target=\"_blank\" href=https://colab.research.google.com/notebooks/data_table.ipynb>data table notebook</a>'\n",
              "            + ' to learn more about interactive tables.';\n",
              "          element.innerHTML = '';\n",
              "          dataTable['output_type'] = 'display_data';\n",
              "          await google.colab.output.renderOutput(dataTable, element);\n",
              "          const docLink = document.createElement('div');\n",
              "          docLink.innerHTML = docLinkHtml;\n",
              "          element.appendChild(docLink);\n",
              "        }\n",
              "      </script>\n",
              "    </div>\n",
              "  </div>\n",
              "  "
            ]
          },
          "metadata": {},
          "execution_count": 8
        }
      ]
    },
    {
      "cell_type": "markdown",
      "source": [
        "Se decide eliminar aquellas con skewness mayor a 10, menos median Age que consideramos importante, por valores de outliers"
      ],
      "metadata": {
        "id": "0a5sHKqnH2x2"
      }
    },
    {
      "cell_type": "code",
      "source": [
        "df.drop(columns=[\"avganncount\",\"avgdeathsperyear\",\"popest2015\"],axis=1,inplace=True)"
      ],
      "metadata": {
        "id": "v6xMQT1KIEmj"
      },
      "execution_count": null,
      "outputs": []
    },
    {
      "cell_type": "markdown",
      "source": [
        "Se revisa que otras columnas tienen nulos, solo queda PctEmployed16_Over"
      ],
      "metadata": {
        "id": "MSQb1plUGkWd"
      }
    },
    {
      "cell_type": "code",
      "source": [
        "df.isnull().sum()"
      ],
      "metadata": {
        "colab": {
          "base_uri": "https://localhost:8080/"
        },
        "id": "3TfWNKM5EJ_E",
        "outputId": "493e6ff2-1f3b-42dc-da77-9d671b0c7916"
      },
      "execution_count": null,
      "outputs": [
        {
          "output_type": "execute_result",
          "data": {
            "text/plain": [
              "target_deathrate            0\n",
              "incidencerate               0\n",
              "medincome                   0\n",
              "povertypercent              0\n",
              "studypercap                 0\n",
              "medianage                   0\n",
              "avghouseholdsize            0\n",
              "percentmarried              0\n",
              "pctnohs18_24                0\n",
              "pcths18_24                  0\n",
              "pctbachdeg18_24             0\n",
              "pcths25_over                0\n",
              "pctbachdeg25_over           0\n",
              "pctemployed16_over        152\n",
              "pctunemployed16_over        0\n",
              "pctprivatecoverage          0\n",
              "pctempprivcoverage          0\n",
              "pctpubliccoverage           0\n",
              "pctpubliccoveragealone      0\n",
              "pctwhite                    0\n",
              "pctblack                    0\n",
              "pctasian                    0\n",
              "pctotherrace                0\n",
              "pctmarriedhouseholds        0\n",
              "birthrate                   0\n",
              "dtype: int64"
            ]
          },
          "metadata": {},
          "execution_count": 10
        }
      ]
    },
    {
      "cell_type": "markdown",
      "source": [
        "Se proceden a eliminar los nans restantes"
      ],
      "metadata": {
        "id": "jdV3EusPGt0-"
      }
    },
    {
      "cell_type": "code",
      "source": [
        "df.dropna(inplace=True)"
      ],
      "metadata": {
        "id": "VIxZ1iwVDW5J"
      },
      "execution_count": null,
      "outputs": []
    },
    {
      "cell_type": "markdown",
      "source": [
        "Se revisa que ya no existan Nans"
      ],
      "metadata": {
        "id": "B9BmPpMIGyCD"
      }
    },
    {
      "cell_type": "code",
      "source": [
        "df.isnull().sum()"
      ],
      "metadata": {
        "colab": {
          "base_uri": "https://localhost:8080/"
        },
        "id": "Bo21JB2h7F4t",
        "outputId": "355311ca-2266-4010-87c3-881d43a3c10d"
      },
      "execution_count": null,
      "outputs": [
        {
          "output_type": "execute_result",
          "data": {
            "text/plain": [
              "target_deathrate          0\n",
              "incidencerate             0\n",
              "medincome                 0\n",
              "povertypercent            0\n",
              "studypercap               0\n",
              "medianage                 0\n",
              "avghouseholdsize          0\n",
              "percentmarried            0\n",
              "pctnohs18_24              0\n",
              "pcths18_24                0\n",
              "pctbachdeg18_24           0\n",
              "pcths25_over              0\n",
              "pctbachdeg25_over         0\n",
              "pctemployed16_over        0\n",
              "pctunemployed16_over      0\n",
              "pctprivatecoverage        0\n",
              "pctempprivcoverage        0\n",
              "pctpubliccoverage         0\n",
              "pctpubliccoveragealone    0\n",
              "pctwhite                  0\n",
              "pctblack                  0\n",
              "pctasian                  0\n",
              "pctotherrace              0\n",
              "pctmarriedhouseholds      0\n",
              "birthrate                 0\n",
              "dtype: int64"
            ]
          },
          "metadata": {},
          "execution_count": 12
        }
      ]
    },
    {
      "cell_type": "markdown",
      "source": [
        "Un vistazo a como se ve el df"
      ],
      "metadata": {
        "id": "didETA6cG1E1"
      }
    },
    {
      "cell_type": "code",
      "source": [
        "df"
      ],
      "metadata": {
        "colab": {
          "base_uri": "https://localhost:8080/",
          "height": 488
        },
        "id": "vBifYcQZEZ41",
        "outputId": "c052354e-e4dc-4c77-c8e7-4976fe551bea"
      },
      "execution_count": null,
      "outputs": [
        {
          "output_type": "execute_result",
          "data": {
            "text/plain": [
              "      target_deathrate  incidencerate  medincome  povertypercent  studypercap  \\\n",
              "0                164.9     489.800000      61898            11.2   499.748204   \n",
              "1                161.3     411.600000      48127            18.6    23.111234   \n",
              "2                174.7     349.700000      49348            14.6    47.560164   \n",
              "3                194.8     430.400000      44243            17.1   342.637253   \n",
              "4                144.4     350.100000      49955            12.5     0.000000   \n",
              "...                ...            ...        ...             ...          ...   \n",
              "3041             146.4     453.549422      49508            13.0   723.414516   \n",
              "3042             149.6     453.549422      46961            12.4     0.000000   \n",
              "3043             150.1     453.549422      48609            18.8   377.175494   \n",
              "3044             153.9     453.549422      51144            15.0  1968.959926   \n",
              "3046             213.6     453.549422      41193            13.9     0.000000   \n",
              "\n",
              "      medianage  avghouseholdsize  percentmarried  pctnohs18_24  pcths18_24  \\\n",
              "0          39.3              2.54            52.5          11.5        39.5   \n",
              "1          33.0              2.34            44.5           6.1        22.4   \n",
              "2          45.0              2.62            54.2          24.0        36.6   \n",
              "3          42.8              2.52            52.7          20.2        41.2   \n",
              "4          48.3              2.34            57.8          14.9        43.0   \n",
              "...         ...               ...             ...           ...         ...   \n",
              "3041       32.2              2.35            45.1           2.9        17.7   \n",
              "3042       44.2              2.08            51.0          20.9        27.9   \n",
              "3043       30.4              2.90            52.6          26.7        33.9   \n",
              "3044       30.9              3.04            54.8          19.7        44.5   \n",
              "3046       26.2              2.83            59.5           8.0        43.3   \n",
              "\n",
              "      ...  pctprivatecoverage  pctempprivcoverage  pctpubliccoverage  \\\n",
              "0     ...                75.1                41.6               32.9   \n",
              "1     ...                70.2                43.6               31.1   \n",
              "2     ...                63.7                34.9               42.1   \n",
              "3     ...                58.4                35.0               45.3   \n",
              "4     ...                61.6                35.1               44.0   \n",
              "...   ...                 ...                 ...                ...   \n",
              "3041  ...                80.0                52.9               24.3   \n",
              "3042  ...                78.3                44.6               31.7   \n",
              "3043  ...                64.5                48.6               28.8   \n",
              "3044  ...                62.0                47.8               26.6   \n",
              "3046  ...                76.1                22.9               25.1   \n",
              "\n",
              "      pctpubliccoveragealone   pctwhite   pctblack  pctasian  pctotherrace  \\\n",
              "0                       14.0  81.780529   2.594728  4.821857      1.843479   \n",
              "1                       15.3  89.228509   0.969102  2.246233      3.741352   \n",
              "2                       21.1  90.922190   0.739673  0.465898      2.747358   \n",
              "3                       25.0  91.744686   0.782626  1.161359      1.362643   \n",
              "4                       22.7  94.104024   0.270192  0.665830      0.492135   \n",
              "...                      ...        ...        ...       ...           ...   \n",
              "3041                     9.5  94.291726   1.145104  1.386542      1.014038   \n",
              "3042                    13.2  90.280811   3.837754  0.327613      1.700468   \n",
              "3043                    17.7  75.706245   2.326771  4.044920     14.130288   \n",
              "3044                    16.8  87.961629   2.313188  1.316472      5.680705   \n",
              "3046                    12.6  70.098132  16.590100  3.177753      1.356457   \n",
              "\n",
              "      pctmarriedhouseholds  birthrate  \n",
              "0                52.856076   6.118831  \n",
              "1                45.372500   4.333096  \n",
              "2                54.444868   3.729488  \n",
              "3                51.021514   4.603841  \n",
              "4                54.027460   6.796657  \n",
              "...                    ...        ...  \n",
              "3041             43.276779   3.977583  \n",
              "3042             51.063830   7.773512  \n",
              "3043             52.007937   8.186470  \n",
              "3044             55.153949   7.809192  \n",
              "3046             56.040242   8.981723  \n",
              "\n",
              "[2895 rows x 25 columns]"
            ],
            "text/html": [
              "\n",
              "  <div id=\"df-e5ab6913-587c-4f69-a430-3456d984c34b\">\n",
              "    <div class=\"colab-df-container\">\n",
              "      <div>\n",
              "<style scoped>\n",
              "    .dataframe tbody tr th:only-of-type {\n",
              "        vertical-align: middle;\n",
              "    }\n",
              "\n",
              "    .dataframe tbody tr th {\n",
              "        vertical-align: top;\n",
              "    }\n",
              "\n",
              "    .dataframe thead th {\n",
              "        text-align: right;\n",
              "    }\n",
              "</style>\n",
              "<table border=\"1\" class=\"dataframe\">\n",
              "  <thead>\n",
              "    <tr style=\"text-align: right;\">\n",
              "      <th></th>\n",
              "      <th>target_deathrate</th>\n",
              "      <th>incidencerate</th>\n",
              "      <th>medincome</th>\n",
              "      <th>povertypercent</th>\n",
              "      <th>studypercap</th>\n",
              "      <th>medianage</th>\n",
              "      <th>avghouseholdsize</th>\n",
              "      <th>percentmarried</th>\n",
              "      <th>pctnohs18_24</th>\n",
              "      <th>pcths18_24</th>\n",
              "      <th>...</th>\n",
              "      <th>pctprivatecoverage</th>\n",
              "      <th>pctempprivcoverage</th>\n",
              "      <th>pctpubliccoverage</th>\n",
              "      <th>pctpubliccoveragealone</th>\n",
              "      <th>pctwhite</th>\n",
              "      <th>pctblack</th>\n",
              "      <th>pctasian</th>\n",
              "      <th>pctotherrace</th>\n",
              "      <th>pctmarriedhouseholds</th>\n",
              "      <th>birthrate</th>\n",
              "    </tr>\n",
              "  </thead>\n",
              "  <tbody>\n",
              "    <tr>\n",
              "      <th>0</th>\n",
              "      <td>164.9</td>\n",
              "      <td>489.800000</td>\n",
              "      <td>61898</td>\n",
              "      <td>11.2</td>\n",
              "      <td>499.748204</td>\n",
              "      <td>39.3</td>\n",
              "      <td>2.54</td>\n",
              "      <td>52.5</td>\n",
              "      <td>11.5</td>\n",
              "      <td>39.5</td>\n",
              "      <td>...</td>\n",
              "      <td>75.1</td>\n",
              "      <td>41.6</td>\n",
              "      <td>32.9</td>\n",
              "      <td>14.0</td>\n",
              "      <td>81.780529</td>\n",
              "      <td>2.594728</td>\n",
              "      <td>4.821857</td>\n",
              "      <td>1.843479</td>\n",
              "      <td>52.856076</td>\n",
              "      <td>6.118831</td>\n",
              "    </tr>\n",
              "    <tr>\n",
              "      <th>1</th>\n",
              "      <td>161.3</td>\n",
              "      <td>411.600000</td>\n",
              "      <td>48127</td>\n",
              "      <td>18.6</td>\n",
              "      <td>23.111234</td>\n",
              "      <td>33.0</td>\n",
              "      <td>2.34</td>\n",
              "      <td>44.5</td>\n",
              "      <td>6.1</td>\n",
              "      <td>22.4</td>\n",
              "      <td>...</td>\n",
              "      <td>70.2</td>\n",
              "      <td>43.6</td>\n",
              "      <td>31.1</td>\n",
              "      <td>15.3</td>\n",
              "      <td>89.228509</td>\n",
              "      <td>0.969102</td>\n",
              "      <td>2.246233</td>\n",
              "      <td>3.741352</td>\n",
              "      <td>45.372500</td>\n",
              "      <td>4.333096</td>\n",
              "    </tr>\n",
              "    <tr>\n",
              "      <th>2</th>\n",
              "      <td>174.7</td>\n",
              "      <td>349.700000</td>\n",
              "      <td>49348</td>\n",
              "      <td>14.6</td>\n",
              "      <td>47.560164</td>\n",
              "      <td>45.0</td>\n",
              "      <td>2.62</td>\n",
              "      <td>54.2</td>\n",
              "      <td>24.0</td>\n",
              "      <td>36.6</td>\n",
              "      <td>...</td>\n",
              "      <td>63.7</td>\n",
              "      <td>34.9</td>\n",
              "      <td>42.1</td>\n",
              "      <td>21.1</td>\n",
              "      <td>90.922190</td>\n",
              "      <td>0.739673</td>\n",
              "      <td>0.465898</td>\n",
              "      <td>2.747358</td>\n",
              "      <td>54.444868</td>\n",
              "      <td>3.729488</td>\n",
              "    </tr>\n",
              "    <tr>\n",
              "      <th>3</th>\n",
              "      <td>194.8</td>\n",
              "      <td>430.400000</td>\n",
              "      <td>44243</td>\n",
              "      <td>17.1</td>\n",
              "      <td>342.637253</td>\n",
              "      <td>42.8</td>\n",
              "      <td>2.52</td>\n",
              "      <td>52.7</td>\n",
              "      <td>20.2</td>\n",
              "      <td>41.2</td>\n",
              "      <td>...</td>\n",
              "      <td>58.4</td>\n",
              "      <td>35.0</td>\n",
              "      <td>45.3</td>\n",
              "      <td>25.0</td>\n",
              "      <td>91.744686</td>\n",
              "      <td>0.782626</td>\n",
              "      <td>1.161359</td>\n",
              "      <td>1.362643</td>\n",
              "      <td>51.021514</td>\n",
              "      <td>4.603841</td>\n",
              "    </tr>\n",
              "    <tr>\n",
              "      <th>4</th>\n",
              "      <td>144.4</td>\n",
              "      <td>350.100000</td>\n",
              "      <td>49955</td>\n",
              "      <td>12.5</td>\n",
              "      <td>0.000000</td>\n",
              "      <td>48.3</td>\n",
              "      <td>2.34</td>\n",
              "      <td>57.8</td>\n",
              "      <td>14.9</td>\n",
              "      <td>43.0</td>\n",
              "      <td>...</td>\n",
              "      <td>61.6</td>\n",
              "      <td>35.1</td>\n",
              "      <td>44.0</td>\n",
              "      <td>22.7</td>\n",
              "      <td>94.104024</td>\n",
              "      <td>0.270192</td>\n",
              "      <td>0.665830</td>\n",
              "      <td>0.492135</td>\n",
              "      <td>54.027460</td>\n",
              "      <td>6.796657</td>\n",
              "    </tr>\n",
              "    <tr>\n",
              "      <th>...</th>\n",
              "      <td>...</td>\n",
              "      <td>...</td>\n",
              "      <td>...</td>\n",
              "      <td>...</td>\n",
              "      <td>...</td>\n",
              "      <td>...</td>\n",
              "      <td>...</td>\n",
              "      <td>...</td>\n",
              "      <td>...</td>\n",
              "      <td>...</td>\n",
              "      <td>...</td>\n",
              "      <td>...</td>\n",
              "      <td>...</td>\n",
              "      <td>...</td>\n",
              "      <td>...</td>\n",
              "      <td>...</td>\n",
              "      <td>...</td>\n",
              "      <td>...</td>\n",
              "      <td>...</td>\n",
              "      <td>...</td>\n",
              "      <td>...</td>\n",
              "    </tr>\n",
              "    <tr>\n",
              "      <th>3041</th>\n",
              "      <td>146.4</td>\n",
              "      <td>453.549422</td>\n",
              "      <td>49508</td>\n",
              "      <td>13.0</td>\n",
              "      <td>723.414516</td>\n",
              "      <td>32.2</td>\n",
              "      <td>2.35</td>\n",
              "      <td>45.1</td>\n",
              "      <td>2.9</td>\n",
              "      <td>17.7</td>\n",
              "      <td>...</td>\n",
              "      <td>80.0</td>\n",
              "      <td>52.9</td>\n",
              "      <td>24.3</td>\n",
              "      <td>9.5</td>\n",
              "      <td>94.291726</td>\n",
              "      <td>1.145104</td>\n",
              "      <td>1.386542</td>\n",
              "      <td>1.014038</td>\n",
              "      <td>43.276779</td>\n",
              "      <td>3.977583</td>\n",
              "    </tr>\n",
              "    <tr>\n",
              "      <th>3042</th>\n",
              "      <td>149.6</td>\n",
              "      <td>453.549422</td>\n",
              "      <td>46961</td>\n",
              "      <td>12.4</td>\n",
              "      <td>0.000000</td>\n",
              "      <td>44.2</td>\n",
              "      <td>2.08</td>\n",
              "      <td>51.0</td>\n",
              "      <td>20.9</td>\n",
              "      <td>27.9</td>\n",
              "      <td>...</td>\n",
              "      <td>78.3</td>\n",
              "      <td>44.6</td>\n",
              "      <td>31.7</td>\n",
              "      <td>13.2</td>\n",
              "      <td>90.280811</td>\n",
              "      <td>3.837754</td>\n",
              "      <td>0.327613</td>\n",
              "      <td>1.700468</td>\n",
              "      <td>51.063830</td>\n",
              "      <td>7.773512</td>\n",
              "    </tr>\n",
              "    <tr>\n",
              "      <th>3043</th>\n",
              "      <td>150.1</td>\n",
              "      <td>453.549422</td>\n",
              "      <td>48609</td>\n",
              "      <td>18.8</td>\n",
              "      <td>377.175494</td>\n",
              "      <td>30.4</td>\n",
              "      <td>2.90</td>\n",
              "      <td>52.6</td>\n",
              "      <td>26.7</td>\n",
              "      <td>33.9</td>\n",
              "      <td>...</td>\n",
              "      <td>64.5</td>\n",
              "      <td>48.6</td>\n",
              "      <td>28.8</td>\n",
              "      <td>17.7</td>\n",
              "      <td>75.706245</td>\n",
              "      <td>2.326771</td>\n",
              "      <td>4.044920</td>\n",
              "      <td>14.130288</td>\n",
              "      <td>52.007937</td>\n",
              "      <td>8.186470</td>\n",
              "    </tr>\n",
              "    <tr>\n",
              "      <th>3044</th>\n",
              "      <td>153.9</td>\n",
              "      <td>453.549422</td>\n",
              "      <td>51144</td>\n",
              "      <td>15.0</td>\n",
              "      <td>1968.959926</td>\n",
              "      <td>30.9</td>\n",
              "      <td>3.04</td>\n",
              "      <td>54.8</td>\n",
              "      <td>19.7</td>\n",
              "      <td>44.5</td>\n",
              "      <td>...</td>\n",
              "      <td>62.0</td>\n",
              "      <td>47.8</td>\n",
              "      <td>26.6</td>\n",
              "      <td>16.8</td>\n",
              "      <td>87.961629</td>\n",
              "      <td>2.313188</td>\n",
              "      <td>1.316472</td>\n",
              "      <td>5.680705</td>\n",
              "      <td>55.153949</td>\n",
              "      <td>7.809192</td>\n",
              "    </tr>\n",
              "    <tr>\n",
              "      <th>3046</th>\n",
              "      <td>213.6</td>\n",
              "      <td>453.549422</td>\n",
              "      <td>41193</td>\n",
              "      <td>13.9</td>\n",
              "      <td>0.000000</td>\n",
              "      <td>26.2</td>\n",
              "      <td>2.83</td>\n",
              "      <td>59.5</td>\n",
              "      <td>8.0</td>\n",
              "      <td>43.3</td>\n",
              "      <td>...</td>\n",
              "      <td>76.1</td>\n",
              "      <td>22.9</td>\n",
              "      <td>25.1</td>\n",
              "      <td>12.6</td>\n",
              "      <td>70.098132</td>\n",
              "      <td>16.590100</td>\n",
              "      <td>3.177753</td>\n",
              "      <td>1.356457</td>\n",
              "      <td>56.040242</td>\n",
              "      <td>8.981723</td>\n",
              "    </tr>\n",
              "  </tbody>\n",
              "</table>\n",
              "<p>2895 rows × 25 columns</p>\n",
              "</div>\n",
              "      <button class=\"colab-df-convert\" onclick=\"convertToInteractive('df-e5ab6913-587c-4f69-a430-3456d984c34b')\"\n",
              "              title=\"Convert this dataframe to an interactive table.\"\n",
              "              style=\"display:none;\">\n",
              "        \n",
              "  <svg xmlns=\"http://www.w3.org/2000/svg\" height=\"24px\"viewBox=\"0 0 24 24\"\n",
              "       width=\"24px\">\n",
              "    <path d=\"M0 0h24v24H0V0z\" fill=\"none\"/>\n",
              "    <path d=\"M18.56 5.44l.94 2.06.94-2.06 2.06-.94-2.06-.94-.94-2.06-.94 2.06-2.06.94zm-11 1L8.5 8.5l.94-2.06 2.06-.94-2.06-.94L8.5 2.5l-.94 2.06-2.06.94zm10 10l.94 2.06.94-2.06 2.06-.94-2.06-.94-.94-2.06-.94 2.06-2.06.94z\"/><path d=\"M17.41 7.96l-1.37-1.37c-.4-.4-.92-.59-1.43-.59-.52 0-1.04.2-1.43.59L10.3 9.45l-7.72 7.72c-.78.78-.78 2.05 0 2.83L4 21.41c.39.39.9.59 1.41.59.51 0 1.02-.2 1.41-.59l7.78-7.78 2.81-2.81c.8-.78.8-2.07 0-2.86zM5.41 20L4 18.59l7.72-7.72 1.47 1.35L5.41 20z\"/>\n",
              "  </svg>\n",
              "      </button>\n",
              "      \n",
              "  <style>\n",
              "    .colab-df-container {\n",
              "      display:flex;\n",
              "      flex-wrap:wrap;\n",
              "      gap: 12px;\n",
              "    }\n",
              "\n",
              "    .colab-df-convert {\n",
              "      background-color: #E8F0FE;\n",
              "      border: none;\n",
              "      border-radius: 50%;\n",
              "      cursor: pointer;\n",
              "      display: none;\n",
              "      fill: #1967D2;\n",
              "      height: 32px;\n",
              "      padding: 0 0 0 0;\n",
              "      width: 32px;\n",
              "    }\n",
              "\n",
              "    .colab-df-convert:hover {\n",
              "      background-color: #E2EBFA;\n",
              "      box-shadow: 0px 1px 2px rgba(60, 64, 67, 0.3), 0px 1px 3px 1px rgba(60, 64, 67, 0.15);\n",
              "      fill: #174EA6;\n",
              "    }\n",
              "\n",
              "    [theme=dark] .colab-df-convert {\n",
              "      background-color: #3B4455;\n",
              "      fill: #D2E3FC;\n",
              "    }\n",
              "\n",
              "    [theme=dark] .colab-df-convert:hover {\n",
              "      background-color: #434B5C;\n",
              "      box-shadow: 0px 1px 3px 1px rgba(0, 0, 0, 0.15);\n",
              "      filter: drop-shadow(0px 1px 2px rgba(0, 0, 0, 0.3));\n",
              "      fill: #FFFFFF;\n",
              "    }\n",
              "  </style>\n",
              "\n",
              "      <script>\n",
              "        const buttonEl =\n",
              "          document.querySelector('#df-e5ab6913-587c-4f69-a430-3456d984c34b button.colab-df-convert');\n",
              "        buttonEl.style.display =\n",
              "          google.colab.kernel.accessAllowed ? 'block' : 'none';\n",
              "\n",
              "        async function convertToInteractive(key) {\n",
              "          const element = document.querySelector('#df-e5ab6913-587c-4f69-a430-3456d984c34b');\n",
              "          const dataTable =\n",
              "            await google.colab.kernel.invokeFunction('convertToInteractive',\n",
              "                                                     [key], {});\n",
              "          if (!dataTable) return;\n",
              "\n",
              "          const docLinkHtml = 'Like what you see? Visit the ' +\n",
              "            '<a target=\"_blank\" href=https://colab.research.google.com/notebooks/data_table.ipynb>data table notebook</a>'\n",
              "            + ' to learn more about interactive tables.';\n",
              "          element.innerHTML = '';\n",
              "          dataTable['output_type'] = 'display_data';\n",
              "          await google.colab.output.renderOutput(dataTable, element);\n",
              "          const docLink = document.createElement('div');\n",
              "          docLink.innerHTML = docLinkHtml;\n",
              "          element.appendChild(docLink);\n",
              "        }\n",
              "      </script>\n",
              "    </div>\n",
              "  </div>\n",
              "  "
            ]
          },
          "metadata": {},
          "execution_count": 13
        }
      ]
    },
    {
      "cell_type": "markdown",
      "source": [
        "Se separa en X y Y. Variables regresoras y el target"
      ],
      "metadata": {
        "id": "U65HRQSCIlu2"
      }
    },
    {
      "cell_type": "code",
      "source": [
        "X = df.drop(columns=\"target_deathrate\")\n",
        "y = df[\"target_deathrate\"]"
      ],
      "metadata": {
        "id": "2IEOATYVFhgw"
      },
      "execution_count": null,
      "outputs": []
    },
    {
      "cell_type": "markdown",
      "source": [
        "Se divide en train y test para el ajuste y evaluacion de los modelos"
      ],
      "metadata": {
        "id": "GsZDOpawIvoK"
      }
    },
    {
      "cell_type": "code",
      "source": [
        "X_train, X_test, y_train, y_test = train_test_split(X, y, test_size = 0.20, random_state=1)"
      ],
      "metadata": {
        "id": "1KU3P6jFF2SP"
      },
      "execution_count": null,
      "outputs": []
    },
    {
      "cell_type": "markdown",
      "source": [
        "Pregunta 5\n",
        "\n",
        "Se normalizan (centrar y escalar) los datos"
      ],
      "metadata": {
        "id": "Piof1ZwjHrxO"
      }
    },
    {
      "cell_type": "code",
      "source": [
        "sc=StandardScaler().fit(X_train)\n",
        "X_train_std=sc.transform(X_train)\n",
        "X_test_std=sc.transform(X_test)"
      ],
      "metadata": {
        "id": "BFZ3glrZHy4w"
      },
      "execution_count": null,
      "outputs": []
    },
    {
      "cell_type": "markdown",
      "source": [
        "Preguntas 6, 7 y 8"
      ],
      "metadata": {
        "id": "MmcxkcP4In2B"
      }
    },
    {
      "cell_type": "markdown",
      "source": [
        "Regresion Lineal"
      ],
      "metadata": {
        "id": "1J3DhM9HJHCi"
      }
    },
    {
      "cell_type": "code",
      "source": [
        "lm=LinearRegression()\n",
        "lm.fit(X_train_std, y_train)\n",
        "y_pred=lm.predict(X_test_std)\n",
        "plt.scatter(y_test, y_pred)\n",
        "\n",
        "plt.show()"
      ],
      "metadata": {
        "colab": {
          "base_uri": "https://localhost:8080/",
          "height": 265
        },
        "id": "rXZnsdSyIsIL",
        "outputId": "721a2af4-2ae0-4eaa-e642-d4742f99be02"
      },
      "execution_count": null,
      "outputs": [
        {
          "output_type": "display_data",
          "data": {
            "text/plain": [
              "<Figure size 432x288 with 1 Axes>"
            ],
            "image/png": "[encoded data removed]"
          },
          "metadata": {
            "needs_background": "light"
          }
        }
      ]
    },
    {
      "cell_type": "markdown",
      "source": [
        "Error Cuadtático Medio"
      ],
      "metadata": {
        "id": "zn92uqnh88Lm"
      }
    },
    {
      "cell_type": "code",
      "source": [
        " ECM_RLin = mean_squared_error(y_test, y_pred)\n",
        " print(\"El error cuadratico medio es: \", ECM_RLin)"
      ],
      "metadata": {
        "colab": {
          "base_uri": "https://localhost:8080/"
        },
        "id": "Sw4Eq4Yu9Se4",
        "outputId": "d1fdee90-237e-4b48-97af-ab9cc01b7eb2"
      },
      "execution_count": null,
      "outputs": [
        {
          "output_type": "stream",
          "name": "stdout",
          "text": [
            "El error cuadratico medio es:  385.65905685262027\n"
          ]
        }
      ]
    },
    {
      "cell_type": "markdown",
      "source": [
        "Otras medidas"
      ],
      "metadata": {
        "id": "F6k2gQEOAQrG"
      }
    },
    {
      "cell_type": "code",
      "source": [
        "print(\"Mean absolute error =\", round(sm.mean_absolute_error(y_test, y_pred), 2))  \n",
        "print(\"Median absolute error =\", round(sm.median_absolute_error(y_test, y_pred), 2)) \n",
        "print(\"Explain variance score =\", round(sm.explained_variance_score(y_test, y_pred), 2)) \n",
        "print(\"R2 score =\", round(sm.r2_score(y_test, y_pred), 2))"
      ],
      "metadata": {
        "colab": {
          "base_uri": "https://localhost:8080/"
        },
        "id": "CflZm5XaAR9q",
        "outputId": "411eaf7a-40ae-4fb9-ff37-510c8bf04db8"
      },
      "execution_count": null,
      "outputs": [
        {
          "output_type": "stream",
          "name": "stdout",
          "text": [
            "Mean absolute error = 14.33\n",
            "Median absolute error = 10.18\n",
            "Explain variance score = 0.51\n",
            "R2 score = 0.51\n"
          ]
        }
      ]
    },
    {
      "cell_type": "markdown",
      "source": [
        "Regresión lineal con ridge"
      ],
      "metadata": {
        "id": "JQjmCmF-833D"
      }
    },
    {
      "cell_type": "code",
      "source": [
        "lm = Ridge()\n",
        "lm.fit(X_train_std, y_train)\n",
        "y_pred=lm.predict(X_test_std)\n",
        "plt.scatter(y_test, y_pred)"
      ],
      "metadata": {
        "colab": {
          "base_uri": "https://localhost:8080/",
          "height": 283
        },
        "id": "_tigpb7NIrBL",
        "outputId": "6d27eb13-f1da-477f-b3ef-6c0150f14d96"
      },
      "execution_count": null,
      "outputs": [
        {
          "output_type": "execute_result",
          "data": {
            "text/plain": [
              "<matplotlib.collections.PathCollection at 0x7f727763acd0>"
            ]
          },
          "metadata": {},
          "execution_count": 20
        },
        {
          "output_type": "display_data",
          "data": {
            "text/plain": [
              "<Figure size 432x288 with 1 Axes>"
            ],
            "image/png": "[encoded data removed]"
          },
          "metadata": {
            "needs_background": "light"
          }
        }
      ]
    },
    {
      "cell_type": "markdown",
      "source": [
        "Error Cuadratico Medio"
      ],
      "metadata": {
        "id": "RjWCa8qf-2Eb"
      }
    },
    {
      "cell_type": "code",
      "source": [
        " ECM_Ridge = mean_squared_error(y_test, y_pred)\n",
        " print(\"El error cuadratico medio es: \", ECM_Ridge)"
      ],
      "metadata": {
        "colab": {
          "base_uri": "https://localhost:8080/"
        },
        "id": "5HoailvC-4Fg",
        "outputId": "06442d31-4941-420d-cb70-720630655003"
      },
      "execution_count": null,
      "outputs": [
        {
          "output_type": "stream",
          "name": "stdout",
          "text": [
            "El error cuadratico medio es:  385.59921277537626\n"
          ]
        }
      ]
    },
    {
      "cell_type": "markdown",
      "source": [
        "Otras medidas"
      ],
      "metadata": {
        "id": "iX1Mvb6nA4l2"
      }
    },
    {
      "cell_type": "code",
      "source": [
        "print(\"Mean absolute error =\", round(sm.mean_absolute_error(y_test, y_pred), 2))  \n",
        "print(\"Median absolute error =\", round(sm.median_absolute_error(y_test, y_pred), 2)) \n",
        "print(\"Explain variance score =\", round(sm.explained_variance_score(y_test, y_pred), 2)) \n",
        "print(\"R2 score =\", round(sm.r2_score(y_test, y_pred), 2))"
      ],
      "metadata": {
        "colab": {
          "base_uri": "https://localhost:8080/"
        },
        "id": "YNwKxDTYA55m",
        "outputId": "b4bc952c-3f44-45f1-d680-a0f6a4318591"
      },
      "execution_count": null,
      "outputs": [
        {
          "output_type": "stream",
          "name": "stdout",
          "text": [
            "Mean absolute error = 14.33\n",
            "Median absolute error = 10.2\n",
            "Explain variance score = 0.51\n",
            "R2 score = 0.51\n"
          ]
        }
      ]
    },
    {
      "cell_type": "markdown",
      "source": [
        "Regresion Lineal con Lasso"
      ],
      "metadata": {
        "id": "ThzXzoPLAOz2"
      }
    },
    {
      "cell_type": "code",
      "source": [
        "lm = linear_model.Lasso()\n",
        "lm.fit(X_train_std, y_train)\n",
        "y_pred=lm.predict(X_test_std)\n",
        "plt.scatter(y_test, y_pred)"
      ],
      "metadata": {
        "colab": {
          "base_uri": "https://localhost:8080/",
          "height": 286
        },
        "id": "-qfRYQD6AMeO",
        "outputId": "11d0fe03-adb1-4a43-8bf3-ac888f5591f1"
      },
      "execution_count": null,
      "outputs": [
        {
          "output_type": "execute_result",
          "data": {
            "text/plain": [
              "<matplotlib.collections.PathCollection at 0x7f7277ab1880>"
            ]
          },
          "metadata": {},
          "execution_count": 23
        },
        {
          "output_type": "display_data",
          "data": {
            "text/plain": [
              "<Figure size 432x288 with 1 Axes>"
            ],
            "image/png": "[encoded data removed]"
          },
          "metadata": {
            "needs_background": "light"
          }
        }
      ]
    },
    {
      "cell_type": "markdown",
      "source": [
        "Error cuadratico Medio"
      ],
      "metadata": {
        "id": "C4NUtBGOCX47"
      }
    },
    {
      "cell_type": "code",
      "source": [
        " ECM_Lasso = mean_squared_error(y_test, y_pred)\n",
        " print(\"El error cuadratico medio es: \", ECM_Lasso)"
      ],
      "metadata": {
        "colab": {
          "base_uri": "https://localhost:8080/"
        },
        "id": "DMg8k6H-CZum",
        "outputId": "1a879b2c-42d0-486d-86d1-eb33b99d030f"
      },
      "execution_count": null,
      "outputs": [
        {
          "output_type": "stream",
          "name": "stdout",
          "text": [
            "El error cuadratico medio es:  398.55784823686304\n"
          ]
        }
      ]
    },
    {
      "cell_type": "markdown",
      "source": [
        "Otras Medidas"
      ],
      "metadata": {
        "id": "vNDDG_SOCiWQ"
      }
    },
    {
      "cell_type": "code",
      "source": [
        "print(\"Mean absolute error =\", round(sm.mean_absolute_error(y_test, y_pred), 2))  \n",
        "print(\"Median absolute error =\", round(sm.median_absolute_error(y_test, y_pred), 2)) \n",
        "print(\"Explain variance score =\", round(sm.explained_variance_score(y_test, y_pred), 2)) \n",
        "print(\"R2 score =\", round(sm.r2_score(y_test, y_pred), 2))"
      ],
      "metadata": {
        "colab": {
          "base_uri": "https://localhost:8080/"
        },
        "id": "mYxz_D37CkVc",
        "outputId": "09ed37e1-d2e8-4698-8252-4ad9afb1a0eb"
      },
      "execution_count": null,
      "outputs": [
        {
          "output_type": "stream",
          "name": "stdout",
          "text": [
            "Mean absolute error = 15.1\n",
            "Median absolute error = 11.39\n",
            "Explain variance score = 0.49\n",
            "R2 score = 0.49\n"
          ]
        }
      ]
    },
    {
      "cell_type": "markdown",
      "source": [
        "Modelar con AdaBoost"
      ],
      "metadata": {
        "id": "5IdNzIN8C1XD"
      }
    },
    {
      "cell_type": "code",
      "source": [
        "regr = AdaBoostRegressor(n_estimators=100 , random_state=0)\n",
        "regr.fit(X_train_std, y_train)\n",
        "y_pred = regr.predict(X_test_std)\n",
        "plt.scatter(y_test, y_pred)"
      ],
      "metadata": {
        "colab": {
          "base_uri": "https://localhost:8080/",
          "height": 283
        },
        "id": "hjYwNfUKC3lY",
        "outputId": "8a9cfb39-ff81-4889-d294-08a98327eb8c"
      },
      "execution_count": null,
      "outputs": [
        {
          "output_type": "execute_result",
          "data": {
            "text/plain": [
              "<matplotlib.collections.PathCollection at 0x7f727753fa60>"
            ]
          },
          "metadata": {},
          "execution_count": 26
        },
        {
          "output_type": "display_data",
          "data": {
            "text/plain": [
              "<Figure size 432x288 with 1 Axes>"
            ],
            "image/png": "[encoded data removed]"
          },
          "metadata": {
            "needs_background": "light"
          }
        }
      ]
    },
    {
      "cell_type": "markdown",
      "source": [
        "Error Cuadrático Medio"
      ],
      "metadata": {
        "id": "CGXOAuUJDZrK"
      }
    },
    {
      "cell_type": "code",
      "source": [
        " ECM_Ada = mean_squared_error(y_test, y_pred)\n",
        " print(\"El error cuadratico medio es: \", ECM_Ada)"
      ],
      "metadata": {
        "colab": {
          "base_uri": "https://localhost:8080/"
        },
        "id": "cew75qrSDb-F",
        "outputId": "3d7574a6-ccdf-49bc-c078-65a7c9cce9d4"
      },
      "execution_count": null,
      "outputs": [
        {
          "output_type": "stream",
          "name": "stdout",
          "text": [
            "El error cuadratico medio es:  436.18326706478973\n"
          ]
        }
      ]
    },
    {
      "cell_type": "markdown",
      "source": [
        "Otras Medidas"
      ],
      "metadata": {
        "id": "Uxp_eG2MDhgI"
      }
    },
    {
      "cell_type": "code",
      "source": [
        "print(\"Mean absolute error =\", round(sm.mean_absolute_error(y_test, y_pred), 2))  \n",
        "print(\"Median absolute error =\", round(sm.median_absolute_error(y_test, y_pred), 2)) \n",
        "print(\"Explain variance score =\", round(sm.explained_variance_score(y_test, y_pred), 2)) \n",
        "print(\"R2 score =\", round(sm.r2_score(y_test, y_pred), 2))"
      ],
      "metadata": {
        "colab": {
          "base_uri": "https://localhost:8080/"
        },
        "id": "gWop2jI5DhHc",
        "outputId": "8bc5951e-86f0-42ae-aea2-149d33504e65"
      },
      "execution_count": null,
      "outputs": [
        {
          "output_type": "stream",
          "name": "stdout",
          "text": [
            "Mean absolute error = 16.21\n",
            "Median absolute error = 12.68\n",
            "Explain variance score = 0.45\n",
            "R2 score = 0.44\n"
          ]
        }
      ]
    },
    {
      "cell_type": "markdown",
      "source": [
        "Modelar con Bagging"
      ],
      "metadata": {
        "id": "s8dEdkDyDoHz"
      }
    },
    {
      "cell_type": "code",
      "source": [
        "regr = BaggingRegressor()\n",
        "regr.fit(X_train_std, y_train)\n",
        "y_pred = regr.predict(X_test_std)\n",
        "plt.scatter(y_test, y_pred)"
      ],
      "metadata": {
        "colab": {
          "base_uri": "https://localhost:8080/",
          "height": 283
        },
        "id": "Dlek8kRmDsKN",
        "outputId": "74c85234-811e-4e87-8933-3c06d5ad7759"
      },
      "execution_count": null,
      "outputs": [
        {
          "output_type": "execute_result",
          "data": {
            "text/plain": [
              "<matplotlib.collections.PathCollection at 0x7f72775165b0>"
            ]
          },
          "metadata": {},
          "execution_count": 29
        },
        {
          "output_type": "display_data",
          "data": {
            "text/plain": [
              "<Figure size 432x288 with 1 Axes>"
            ],
            "image/png": "[encoded data removed]"
          },
          "metadata": {
            "needs_background": "light"
          }
        }
      ]
    },
    {
      "cell_type": "markdown",
      "source": [
        "Error Cuadrático Medio"
      ],
      "metadata": {
        "id": "tv6XjaTkEP7J"
      }
    },
    {
      "cell_type": "code",
      "source": [
        " ECM_Bag = mean_squared_error(y_test, y_pred)\n",
        " print(\"El error cuadratico medio es: \", ECM_Bag)"
      ],
      "metadata": {
        "colab": {
          "base_uri": "https://localhost:8080/"
        },
        "id": "OfiLQRKtESC-",
        "outputId": "a574f7ec-9e51-4d2d-91d8-001163a9370b"
      },
      "execution_count": null,
      "outputs": [
        {
          "output_type": "stream",
          "name": "stdout",
          "text": [
            "El error cuadratico medio es:  409.28248998272886\n"
          ]
        }
      ]
    },
    {
      "cell_type": "markdown",
      "source": [
        "Otras Medidas"
      ],
      "metadata": {
        "id": "2kIjwvbkEYgN"
      }
    },
    {
      "cell_type": "code",
      "source": [
        "print(\"Mean absolute error =\", round(sm.mean_absolute_error(y_test, y_pred), 2))  \n",
        "print(\"Median absolute error =\", round(sm.median_absolute_error(y_test, y_pred), 2)) \n",
        "print(\"Explain variance score =\", round(sm.explained_variance_score(y_test, y_pred), 2)) \n",
        "print(\"R2 score =\", round(sm.r2_score(y_test, y_pred), 2))"
      ],
      "metadata": {
        "colab": {
          "base_uri": "https://localhost:8080/"
        },
        "id": "yc47EQl-EZ9B",
        "outputId": "05f6265d-be36-440c-d2f9-e819e644c780"
      },
      "execution_count": null,
      "outputs": [
        {
          "output_type": "stream",
          "name": "stdout",
          "text": [
            "Mean absolute error = 15.11\n",
            "Median absolute error = 11.19\n",
            "Explain variance score = 0.48\n",
            "R2 score = 0.48\n"
          ]
        }
      ]
    },
    {
      "cell_type": "markdown",
      "source": [
        "Pregunta 9:\n",
        "\n",
        "El desempeño de modelos de regresión es muy parecido entre los 5 modelos ajustados en esta práctica. Existe muy poca diferencia entre los ECMs de la regresión lineal y la regularizada con ridge. La Lasso presenta un poco más de error. La regresión con AdaBoost es la que mayor ECM tiene mientras que la regresión con Bagging es la segunda con mayor error.\n",
        "\n",
        "En cuanto al parámetro de R cuadrada, es decir la varianza del target explicada por el modelo, todos explicacn entre un 44% y un 52%. Los modelos que más explican son Regresión Lineal y Regresión Lineal regularizada con Ridge. El modelo que menos explica es el de AdaBoost. "
      ],
      "metadata": {
        "id": "ziGIz7l-EmCb"
      }
    }
  ]
}