{
  "nbformat": 4,
  "nbformat_minor": 0,
  "metadata": {
    "colab": {
      "provenance": []
    },
    "kernelspec": {
      "name": "python3",
      "display_name": "Python 3"
    },
    "language_info": {
      "name": "python"
    }
  },
  "cells": [
    {
      "cell_type": "code",
      "execution_count": 8,
      "metadata": {
        "id": "gkDsVfq55WhB"
      },
      "outputs": [],
      "source": [
        "from sklearn.ensemble import RandomForestClassifier\n",
        "from sklearn.ensemble import VotingClassifier\n",
        "from sklearn.linear_model import LogisticRegression\n",
        "from sklearn.svm import SVC\n",
        "from sklearn.datasets import make_moons\n",
        "from sklearn.model_selection import train_test_split\n",
        "from sklearn.metrics import accuracy_score\n",
        "from sklearn.tree import DecisionTreeClassifier"
      ]
    },
    {
      "cell_type": "markdown",
      "source": [
        "Crear el conjunto de datos"
      ],
      "metadata": {
        "id": "rgeF7vZR_gz3"
      }
    },
    {
      "cell_type": "code",
      "source": [
        "X, y = make_moons(n_samples= 10000, noise = 0.15)"
      ],
      "metadata": {
        "id": "KHvSlTP2_Bk-"
      },
      "execution_count": 2,
      "outputs": []
    },
    {
      "cell_type": "markdown",
      "source": [
        "Train Test Split"
      ],
      "metadata": {
        "id": "vQ3QQH-kAhXe"
      }
    },
    {
      "cell_type": "code",
      "source": [],
      "metadata": {
        "id": "axlDL4JbOHfU"
      },
      "execution_count": null,
      "outputs": []
    },
    {
      "cell_type": "code",
      "source": [
        "X_train, X_test, y_train, y_test = train_test_split(X, y, train_size= 0.80, random_state= 42)"
      ],
      "metadata": {
        "id": "1KhYIqYa_VvR"
      },
      "execution_count": 3,
      "outputs": []
    },
    {
      "cell_type": "markdown",
      "source": [
        "Iniciar los Clasificadores"
      ],
      "metadata": {
        "id": "3cWm_oD_A46E"
      }
    },
    {
      "cell_type": "code",
      "source": [
        "log_clf = LogisticRegression()\n",
        "rnd_clf = RandomForestClassifier()\n",
        "svm_clf = SVC(probability=True)"
      ],
      "metadata": {
        "id": "Xlcn18JNA4Wb"
      },
      "execution_count": 5,
      "outputs": []
    },
    {
      "cell_type": "markdown",
      "source": [
        "Crear ensambles de votantes"
      ],
      "metadata": {
        "id": "keKwbu6hBwQY"
      }
    },
    {
      "cell_type": "code",
      "source": [
        "voting_clf = VotingClassifier(estimators = [('lr', log_clf), ('rf', rnd_clf), ('svc', svm_clf)], voting = 'soft')\n",
        "voting_clf.fit(X_train, y_train)"
      ],
      "metadata": {
        "colab": {
          "base_uri": "https://localhost:8080/"
        },
        "id": "SL6gB8DWB1Z9",
        "outputId": "06e44dcf-db37-4133-85a9-1ed58a3d2c34"
      },
      "execution_count": 6,
      "outputs": [
        {
          "output_type": "execute_result",
          "data": {
            "text/plain": [
              "VotingClassifier(estimators=[('lr', LogisticRegression()),\n",
              "                             ('rf', RandomForestClassifier()),\n",
              "                             ('svc', SVC(probability=True))],\n",
              "                 voting='soft')"
            ]
          },
          "metadata": {},
          "execution_count": 6
        }
      ]
    },
    {
      "cell_type": "markdown",
      "source": [
        "Ajustar cada modelo base a mis datos "
      ],
      "metadata": {
        "id": "JR2kk09yDbCJ"
      }
    },
    {
      "cell_type": "code",
      "source": [
        "for clf in (log_clf, rnd_clf, svm_clf, voting_clf):\n",
        "  clf.fit(X_train, y_train)\n",
        "  y_pred = clf.predict(X_test)\n",
        "  print(clf.__class__.__name__, accuracy_score(y_test, y_pred))"
      ],
      "metadata": {
        "colab": {
          "base_uri": "https://localhost:8080/"
        },
        "id": "WMm6V_FADjZC",
        "outputId": "23019782-554a-462d-d413-491a90592864"
      },
      "execution_count": 7,
      "outputs": [
        {
          "output_type": "stream",
          "name": "stdout",
          "text": [
            "LogisticRegression 0.8825\n",
            "RandomForestClassifier 0.9855\n",
            "SVC 0.987\n",
            "VotingClassifier 0.9865\n"
          ]
        }
      ]
    },
    {
      "cell_type": "markdown",
      "source": [
        "1. Intentar con descision trees"
      ],
      "metadata": {
        "id": "F-ostqOcEuSS"
      }
    },
    {
      "cell_type": "markdown",
      "source": [
        "Inicializar"
      ],
      "metadata": {
        "id": "cl2oht0vFGUV"
      }
    },
    {
      "cell_type": "code",
      "source": [
        "log_clf = LogisticRegression()\n",
        "tree1_clf = DecisionTreeClassifier(max_depth=1)\n",
        "tree2_clf = DecisionTreeClassifier(max_depth=2)"
      ],
      "metadata": {
        "id": "PlJwoRdKEwRC"
      },
      "execution_count": 9,
      "outputs": []
    },
    {
      "cell_type": "markdown",
      "source": [
        "Ensamble votantes"
      ],
      "metadata": {
        "id": "YsdWenUxFQNU"
      }
    },
    {
      "cell_type": "code",
      "source": [
        "voting_clf = VotingClassifier(estimators = [('lr', log_clf), ('dt1', tree1_clf), ('dt2', tree2_clf)], voting = 'soft')\n",
        "voting_clf.fit(X_train, y_train)"
      ],
      "metadata": {
        "colab": {
          "base_uri": "https://localhost:8080/"
        },
        "id": "PJw0BSZOFRut",
        "outputId": "8631646f-d40c-4090-8ffc-a59c6372a298"
      },
      "execution_count": 10,
      "outputs": [
        {
          "output_type": "execute_result",
          "data": {
            "text/plain": [
              "VotingClassifier(estimators=[('lr', LogisticRegression()),\n",
              "                             ('dt1', DecisionTreeClassifier(max_depth=1)),\n",
              "                             ('dt2', DecisionTreeClassifier(max_depth=2))],\n",
              "                 voting='soft')"
            ]
          },
          "metadata": {},
          "execution_count": 10
        }
      ]
    },
    {
      "cell_type": "markdown",
      "source": [
        "Ajustar"
      ],
      "metadata": {
        "id": "2NAEbc1CFHtW"
      }
    },
    {
      "cell_type": "code",
      "source": [
        "for clf in (log_clf, tree1_clf, tree2_clf, voting_clf):\n",
        "  clf.fit(X_train, y_train)\n",
        "  y_pred = clf.predict(X_test)\n",
        "  print(clf.__class__.__name__, accuracy_score(y_test, y_pred))"
      ],
      "metadata": {
        "colab": {
          "base_uri": "https://localhost:8080/"
        },
        "id": "x67QCQNpFIdH",
        "outputId": "10b3c865-ae03-460d-d0a5-c939818e8453"
      },
      "execution_count": 11,
      "outputs": [
        {
          "output_type": "stream",
          "name": "stdout",
          "text": [
            "LogisticRegression 0.8825\n",
            "DecisionTreeClassifier 0.8325\n",
            "DecisionTreeClassifier 0.919\n",
            "VotingClassifier 0.917\n"
          ]
        }
      ]
    },
    {
      "cell_type": "markdown",
      "source": [
        "2. Arboles de maz depth 1 a 10"
      ],
      "metadata": {
        "id": "maFMixHwGHOs"
      }
    },
    {
      "cell_type": "markdown",
      "source": [
        "Inicializar"
      ],
      "metadata": {
        "id": "kjUCOv_qGOZD"
      }
    },
    {
      "cell_type": "code",
      "source": [
        "tree1_clf = DecisionTreeClassifier(max_depth=1)\n",
        "tree2_clf = DecisionTreeClassifier(max_depth=2)\n",
        "tree3_clf = DecisionTreeClassifier(max_depth=3)\n",
        "tree4_clf = DecisionTreeClassifier(max_depth=4)\n",
        "tree5_clf = DecisionTreeClassifier(max_depth=5)\n",
        "tree6_clf = DecisionTreeClassifier(max_depth=6)\n",
        "tree7_clf = DecisionTreeClassifier(max_depth=7)\n",
        "tree8_clf = DecisionTreeClassifier(max_depth=8)\n",
        "tree9_clf = DecisionTreeClassifier(max_depth=9)\n",
        "tree10_clf = DecisionTreeClassifier(max_depth=10)"
      ],
      "metadata": {
        "id": "xsM8vp2DGN4r"
      },
      "execution_count": 12,
      "outputs": []
    },
    {
      "cell_type": "markdown",
      "source": [
        "Ensamble votantes"
      ],
      "metadata": {
        "id": "m1w9mT2bGkPR"
      }
    },
    {
      "cell_type": "code",
      "source": [
        "voting_clf = VotingClassifier(estimators = [('dt1', tree1_clf), ('dt2', tree2_clf), ('dt3', tree3_clf),('dt4', tree4_clf), \n",
        "                                            ('dt5', tree5_clf), ('dt6', tree6_clf), ('dt7', tree7_clf),('dt8', tree8_clf), \n",
        "                                            ('dt9', tree9_clf), ('dt10', tree10_clf)], voting = 'soft')\n",
        "voting_clf.fit(X_train, y_train)"
      ],
      "metadata": {
        "colab": {
          "base_uri": "https://localhost:8080/"
        },
        "id": "bby-NWBcGlq3",
        "outputId": "dc34a70d-8c07-452e-eb69-6c9573d1ecc5"
      },
      "execution_count": 14,
      "outputs": [
        {
          "output_type": "execute_result",
          "data": {
            "text/plain": [
              "VotingClassifier(estimators=[('dt1', DecisionTreeClassifier(max_depth=1)),\n",
              "                             ('dt2', DecisionTreeClassifier(max_depth=2)),\n",
              "                             ('dt3', DecisionTreeClassifier(max_depth=3)),\n",
              "                             ('dt4', DecisionTreeClassifier(max_depth=4)),\n",
              "                             ('dt5', DecisionTreeClassifier(max_depth=5)),\n",
              "                             ('dt6', DecisionTreeClassifier(max_depth=6)),\n",
              "                             ('dt7', DecisionTreeClassifier(max_depth=7)),\n",
              "                             ('dt8', DecisionTreeClassifier(max_depth=8)),\n",
              "                             ('dt9', DecisionTreeClassifier(max_depth=9)),\n",
              "                             ('dt10', DecisionTreeClassifier(max_depth=10))],\n",
              "                 voting='soft')"
            ]
          },
          "metadata": {},
          "execution_count": 14
        }
      ]
    },
    {
      "cell_type": "markdown",
      "source": [
        "Ajustar"
      ],
      "metadata": {
        "id": "Hy-dmx-YHZPD"
      }
    },
    {
      "cell_type": "code",
      "source": [
        "for clf in (tree1_clf, tree2_clf, tree3_clf, tree4_clf, tree5_clf, tree6_clf, tree7_clf, tree8_clf, tree9_clf, tree10_clf, voting_clf):\n",
        "  clf.fit(X_train, y_train)\n",
        "  y_pred = clf.predict(X_test)\n",
        "  print(clf.__class__.__name__, accuracy_score(y_test, y_pred))"
      ],
      "metadata": {
        "colab": {
          "base_uri": "https://localhost:8080/"
        },
        "id": "aov6yBpXHbNb",
        "outputId": "e4bc4780-0e10-4580-decc-185bc1e8dce2"
      },
      "execution_count": 15,
      "outputs": [
        {
          "output_type": "stream",
          "name": "stdout",
          "text": [
            "DecisionTreeClassifier 0.8325\n",
            "DecisionTreeClassifier 0.919\n",
            "DecisionTreeClassifier 0.919\n",
            "DecisionTreeClassifier 0.919\n",
            "DecisionTreeClassifier 0.9855\n",
            "DecisionTreeClassifier 0.985\n",
            "DecisionTreeClassifier 0.9845\n",
            "DecisionTreeClassifier 0.984\n",
            "DecisionTreeClassifier 0.9835\n",
            "DecisionTreeClassifier 0.9825\n",
            "VotingClassifier 0.982\n"
          ]
        }
      ]
    },
    {
      "cell_type": "markdown",
      "source": [
        "3.1 *SVM* voto duro"
      ],
      "metadata": {
        "id": "ox9fQvpZIa9_"
      }
    },
    {
      "cell_type": "markdown",
      "source": [
        "Inicializar"
      ],
      "metadata": {
        "id": "uqZnX2y2Id7f"
      }
    },
    {
      "cell_type": "code",
      "source": [
        "svm1_clf = SVC(kernel='linear', C=1)\n",
        "svm2_clf = SVC(kernel='poly', degree=2, C =1)\n",
        "svm3_clf = SVC(kernel='poly', degree=3, C =1)\n",
        "svm4_clf = SVC(kernel='poly', degree=4, C =1)\n",
        "svm5_clf = SVC(kernel='rbf', gamma=0.002, C =1)"
      ],
      "metadata": {
        "id": "m8-ZMc-DIhPi"
      },
      "execution_count": 16,
      "outputs": []
    },
    {
      "cell_type": "markdown",
      "source": [
        "Ensamble votantes"
      ],
      "metadata": {
        "id": "G5TjVE3IJ8nf"
      }
    },
    {
      "cell_type": "code",
      "source": [
        "voting_clf = VotingClassifier(estimators = [('svc1', svm1_clf), ('svc2', svm2_clf), ('svc3', svm3_clf), ('svc4', svm4_clf), ('svc5', svm5_clf)], \n",
        "                              voting = 'hard')\n",
        "voting_clf.fit(X_train, y_train)"
      ],
      "metadata": {
        "colab": {
          "base_uri": "https://localhost:8080/"
        },
        "id": "TssysD7OJ91O",
        "outputId": "ba5265be-86a9-4292-a323-66dfb4797743"
      },
      "execution_count": 19,
      "outputs": [
        {
          "output_type": "execute_result",
          "data": {
            "text/plain": [
              "VotingClassifier(estimators=[('svc1', SVC(C=1, kernel='linear')),\n",
              "                             ('svc2', SVC(C=1, degree=2, kernel='poly')),\n",
              "                             ('svc3', SVC(C=1, kernel='poly')),\n",
              "                             ('svc4', SVC(C=1, degree=4, kernel='poly')),\n",
              "                             ('svc5', SVC(C=1, gamma=0.002))])"
            ]
          },
          "metadata": {},
          "execution_count": 19
        }
      ]
    },
    {
      "cell_type": "markdown",
      "source": [
        "Ajustar"
      ],
      "metadata": {
        "id": "RH_43mJCKb6W"
      }
    },
    {
      "cell_type": "code",
      "source": [
        "for clf in (svm1_clf, svm2_clf, svm3_clf, svm4_clf, svm5_clf, voting_clf):\n",
        "  clf.fit(X_train, y_train)\n",
        "  y_pred = clf.predict(X_test)\n",
        "  print(clf.__class__.__name__, accuracy_score(y_test, y_pred))"
      ],
      "metadata": {
        "colab": {
          "base_uri": "https://localhost:8080/"
        },
        "id": "XUmt7ow5Ka0I",
        "outputId": "edfde6b8-42e2-4114-b21f-3fd298c0b7a9"
      },
      "execution_count": 22,
      "outputs": [
        {
          "output_type": "stream",
          "name": "stdout",
          "text": [
            "SVC 0.881\n",
            "SVC 0.774\n",
            "SVC 0.923\n",
            "SVC 0.775\n",
            "SVC 0.867\n",
            "VotingClassifier 0.9145\n"
          ]
        }
      ]
    },
    {
      "cell_type": "markdown",
      "source": [
        "3.2 SVM Voto Suave"
      ],
      "metadata": {
        "id": "1J_4vJzqLP3R"
      }
    },
    {
      "cell_type": "markdown",
      "source": [
        "Inicializar"
      ],
      "metadata": {
        "id": "9GCg5rBkLXam"
      }
    },
    {
      "cell_type": "code",
      "source": [
        "svm1_clf = SVC(probability=True, kernel='linear', C=1)\n",
        "svm2_clf = SVC(probability=True, kernel='poly', degree=2, C =1)\n",
        "svm3_clf = SVC(probability=True, kernel='poly', degree=3, C =1)\n",
        "svm4_clf = SVC(probability=True, kernel='poly', degree=4, C =1)\n",
        "svm5_clf = SVC(probability=True, kernel='rbf', gamma=0.002, C =1)"
      ],
      "metadata": {
        "id": "Hz3ITqyvLY5r"
      },
      "execution_count": 24,
      "outputs": []
    },
    {
      "cell_type": "markdown",
      "source": [
        "Ensamble Votantes"
      ],
      "metadata": {
        "id": "W1nA0lBhL4eS"
      }
    },
    {
      "cell_type": "code",
      "source": [
        "voting_clf = VotingClassifier(estimators = [('svc1', svm1_clf), ('svc2', svm2_clf), ('svc3', svm3_clf), ('svc4', svm4_clf), ('svc5', svm5_clf)], \n",
        "                              voting = 'soft')\n",
        "voting_clf.fit(X_train, y_train)"
      ],
      "metadata": {
        "colab": {
          "base_uri": "https://localhost:8080/"
        },
        "id": "IophrsikL6Ix",
        "outputId": "d63188e5-d68f-43ce-d77e-ba63cd67e31e"
      },
      "execution_count": 25,
      "outputs": [
        {
          "output_type": "execute_result",
          "data": {
            "text/plain": [
              "VotingClassifier(estimators=[('svc1',\n",
              "                              SVC(C=1, kernel='linear', probability=True)),\n",
              "                             ('svc2',\n",
              "                              SVC(C=1, degree=2, kernel='poly',\n",
              "                                  probability=True)),\n",
              "                             ('svc3',\n",
              "                              SVC(C=1, kernel='poly', probability=True)),\n",
              "                             ('svc4',\n",
              "                              SVC(C=1, degree=4, kernel='poly',\n",
              "                                  probability=True)),\n",
              "                             ('svc5', SVC(C=1, gamma=0.002, probability=True))],\n",
              "                 voting='soft')"
            ]
          },
          "metadata": {},
          "execution_count": 25
        }
      ]
    },
    {
      "cell_type": "markdown",
      "source": [
        "Ajustar"
      ],
      "metadata": {
        "id": "qYVlBSZuL9wh"
      }
    },
    {
      "cell_type": "code",
      "source": [
        "for clf in (svm1_clf, svm2_clf, svm3_clf, svm4_clf, svm5_clf, voting_clf):\n",
        "  clf.fit(X_train, y_train)\n",
        "  y_pred = clf.predict(X_test)\n",
        "  print(clf.__class__.__name__, accuracy_score(y_test, y_pred))"
      ],
      "metadata": {
        "colab": {
          "base_uri": "https://localhost:8080/"
        },
        "id": "7Kw3B1T-L_9g",
        "outputId": "9b2a9637-619f-4a3b-9af9-32689749d4f9"
      },
      "execution_count": 26,
      "outputs": [
        {
          "output_type": "stream",
          "name": "stdout",
          "text": [
            "SVC 0.881\n",
            "SVC 0.774\n",
            "SVC 0.923\n",
            "SVC 0.775\n",
            "SVC 0.867\n",
            "VotingClassifier 0.8985\n"
          ]
        }
      ]
    }
  ]
}